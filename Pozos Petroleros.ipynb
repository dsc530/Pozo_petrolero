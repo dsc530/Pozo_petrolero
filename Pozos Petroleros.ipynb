{
 "cells": [
  {
   "cell_type": "markdown",
   "metadata": {},
   "source": [
    "# PREDICCIÓN DE BENEFICIOS POZO PETROLERO"
   ]
  },
  {
   "cell_type": "markdown",
   "metadata": {},
   "source": [
    "La compañía de extracción de petróleo OilyGiant necesita determinar los mejores lugares donde abrir 200 pozos nuevos de petróleo.\n",
    "\n",
    "Para esta tarea, se han determinado los siguientes objetivos:\n",
    "\n",
    "- Utilizar como base del análisis a los parámetros recogidos de pozos petrolíferos en cada región: calidad de crudo y volumen de reservas.\n",
    "- Crear un modelo para predecir el volumen de reservas en pozos nuevos.\n",
    "- Elegir los pozos petrolíferos que tienen los valores estimados más altos.\n",
    "- Elegir la región con el beneficio total más alto para los pozos petrolíferos seleccionados.\n",
    "\n",
    "Hay que tomar en cuenta las siguientes condiciones:\n",
    "\n",
    "- Al explorar la región, se lleva a cabo un estudio de 500 puntos con la selección de los mejores 200 puntos para el cálculo del beneficio.\n",
    "- El presupuesto para el desarrollo de 200 pozos petroleros es de 100 millones de dólares.\n",
    "- Un barril de materias primas genera 4.5 USD de ingresos. El ingreso de una unidad de producto es de 4500 dólares (el volumen de reservas está expresado en miles de barriles).\n",
    "- Después de la evaluación de riesgo, mantener solo las regiones con riesgo de pérdidas inferior al 2.5%. De las que se ajustan a los criterios, se debe seleccionar la región con el beneficio promedio más alto."
   ]
  },
  {
   "cell_type": "markdown",
   "metadata": {},
   "source": [
    "## Importación de Librerías"
   ]
  },
  {
   "cell_type": "code",
   "execution_count": 1,
   "metadata": {},
   "outputs": [],
   "source": [
    "import pandas as pd\n",
    "import numpy as np\n",
    "import matplotlib.pyplot as plt\n",
    "\n",
    "from sklearn.model_selection import train_test_split\n",
    "from sklearn.linear_model import LinearRegression\n",
    "from sklearn.metrics import mean_squared_error\n",
    "\n",
    "from scipy.stats import norm"
   ]
  },
  {
   "cell_type": "markdown",
   "metadata": {},
   "source": [
    "## Importación de Datos"
   ]
  },
  {
   "cell_type": "code",
   "execution_count": 2,
   "metadata": {},
   "outputs": [],
   "source": [
    "region_0 = pd.read_csv('/datasets/geo_data_0.csv')\n",
    "region_1 = pd.read_csv('/datasets/geo_data_1.csv')\n",
    "region_2 = pd.read_csv('/datasets/geo_data_2.csv')"
   ]
  },
  {
   "cell_type": "markdown",
   "metadata": {},
   "source": [
    "##  Exploración de Datos"
   ]
  },
  {
   "cell_type": "markdown",
   "metadata": {},
   "source": [
    "### Tabla Región  0"
   ]
  },
  {
   "cell_type": "code",
   "execution_count": 3,
   "metadata": {},
   "outputs": [
    {
     "name": "stdout",
     "output_type": "stream",
     "text": [
      "<class 'pandas.core.frame.DataFrame'>\n",
      "RangeIndex: 100000 entries, 0 to 99999\n",
      "Data columns (total 5 columns):\n",
      " #   Column   Non-Null Count   Dtype  \n",
      "---  ------   --------------   -----  \n",
      " 0   id       100000 non-null  object \n",
      " 1   f0       100000 non-null  float64\n",
      " 2   f1       100000 non-null  float64\n",
      " 3   f2       100000 non-null  float64\n",
      " 4   product  100000 non-null  float64\n",
      "dtypes: float64(4), object(1)\n",
      "memory usage: 3.8+ MB\n"
     ]
    }
   ],
   "source": [
    "region_0.info()"
   ]
  },
  {
   "cell_type": "code",
   "execution_count": 4,
   "metadata": {},
   "outputs": [
    {
     "data": {
      "text/html": [
       "<div>\n",
       "<style scoped>\n",
       "    .dataframe tbody tr th:only-of-type {\n",
       "        vertical-align: middle;\n",
       "    }\n",
       "\n",
       "    .dataframe tbody tr th {\n",
       "        vertical-align: top;\n",
       "    }\n",
       "\n",
       "    .dataframe thead th {\n",
       "        text-align: right;\n",
       "    }\n",
       "</style>\n",
       "<table border=\"1\" class=\"dataframe\">\n",
       "  <thead>\n",
       "    <tr style=\"text-align: right;\">\n",
       "      <th></th>\n",
       "      <th>id</th>\n",
       "      <th>f0</th>\n",
       "      <th>f1</th>\n",
       "      <th>f2</th>\n",
       "      <th>product</th>\n",
       "    </tr>\n",
       "  </thead>\n",
       "  <tbody>\n",
       "    <tr>\n",
       "      <th>28861</th>\n",
       "      <td>XdyjY</td>\n",
       "      <td>-0.181917</td>\n",
       "      <td>1.122929</td>\n",
       "      <td>4.608457</td>\n",
       "      <td>100.078618</td>\n",
       "    </tr>\n",
       "    <tr>\n",
       "      <th>11513</th>\n",
       "      <td>ky3Ub</td>\n",
       "      <td>0.033128</td>\n",
       "      <td>0.178968</td>\n",
       "      <td>-4.776952</td>\n",
       "      <td>69.330416</td>\n",
       "    </tr>\n",
       "    <tr>\n",
       "      <th>75857</th>\n",
       "      <td>xALlf</td>\n",
       "      <td>0.116105</td>\n",
       "      <td>0.267614</td>\n",
       "      <td>1.382148</td>\n",
       "      <td>185.044438</td>\n",
       "    </tr>\n",
       "    <tr>\n",
       "      <th>29042</th>\n",
       "      <td>Bk4F1</td>\n",
       "      <td>-0.838193</td>\n",
       "      <td>0.750407</td>\n",
       "      <td>-0.081518</td>\n",
       "      <td>53.616562</td>\n",
       "    </tr>\n",
       "    <tr>\n",
       "      <th>13867</th>\n",
       "      <td>R11IM</td>\n",
       "      <td>1.167194</td>\n",
       "      <td>-0.427079</td>\n",
       "      <td>7.604429</td>\n",
       "      <td>126.001784</td>\n",
       "    </tr>\n",
       "    <tr>\n",
       "      <th>94571</th>\n",
       "      <td>Iywl2</td>\n",
       "      <td>-0.165963</td>\n",
       "      <td>0.444365</td>\n",
       "      <td>7.462211</td>\n",
       "      <td>136.487773</td>\n",
       "    </tr>\n",
       "    <tr>\n",
       "      <th>58595</th>\n",
       "      <td>gNUBF</td>\n",
       "      <td>-0.985734</td>\n",
       "      <td>0.062183</td>\n",
       "      <td>2.583277</td>\n",
       "      <td>56.094650</td>\n",
       "    </tr>\n",
       "    <tr>\n",
       "      <th>53795</th>\n",
       "      <td>rwklk</td>\n",
       "      <td>1.961004</td>\n",
       "      <td>0.403839</td>\n",
       "      <td>-2.395686</td>\n",
       "      <td>53.620789</td>\n",
       "    </tr>\n",
       "    <tr>\n",
       "      <th>12981</th>\n",
       "      <td>J8X7n</td>\n",
       "      <td>0.071244</td>\n",
       "      <td>0.258531</td>\n",
       "      <td>3.383900</td>\n",
       "      <td>42.543149</td>\n",
       "    </tr>\n",
       "    <tr>\n",
       "      <th>53520</th>\n",
       "      <td>G5VJa</td>\n",
       "      <td>0.573288</td>\n",
       "      <td>0.802772</td>\n",
       "      <td>-2.083930</td>\n",
       "      <td>74.884359</td>\n",
       "    </tr>\n",
       "  </tbody>\n",
       "</table>\n",
       "</div>"
      ],
      "text/plain": [
       "          id        f0        f1        f2     product\n",
       "28861  XdyjY -0.181917  1.122929  4.608457  100.078618\n",
       "11513  ky3Ub  0.033128  0.178968 -4.776952   69.330416\n",
       "75857  xALlf  0.116105  0.267614  1.382148  185.044438\n",
       "29042  Bk4F1 -0.838193  0.750407 -0.081518   53.616562\n",
       "13867  R11IM  1.167194 -0.427079  7.604429  126.001784\n",
       "94571  Iywl2 -0.165963  0.444365  7.462211  136.487773\n",
       "58595  gNUBF -0.985734  0.062183  2.583277   56.094650\n",
       "53795  rwklk  1.961004  0.403839 -2.395686   53.620789\n",
       "12981  J8X7n  0.071244  0.258531  3.383900   42.543149\n",
       "53520  G5VJa  0.573288  0.802772 -2.083930   74.884359"
      ]
     },
     "execution_count": 4,
     "metadata": {},
     "output_type": "execute_result"
    }
   ],
   "source": [
    "region_0.sample(10)"
   ]
  },
  {
   "cell_type": "code",
   "execution_count": 5,
   "metadata": {},
   "outputs": [
    {
     "data": {
      "text/html": [
       "<div>\n",
       "<style scoped>\n",
       "    .dataframe tbody tr th:only-of-type {\n",
       "        vertical-align: middle;\n",
       "    }\n",
       "\n",
       "    .dataframe tbody tr th {\n",
       "        vertical-align: top;\n",
       "    }\n",
       "\n",
       "    .dataframe thead th {\n",
       "        text-align: right;\n",
       "    }\n",
       "</style>\n",
       "<table border=\"1\" class=\"dataframe\">\n",
       "  <thead>\n",
       "    <tr style=\"text-align: right;\">\n",
       "      <th></th>\n",
       "      <th>f0</th>\n",
       "      <th>f1</th>\n",
       "      <th>f2</th>\n",
       "      <th>product</th>\n",
       "    </tr>\n",
       "  </thead>\n",
       "  <tbody>\n",
       "    <tr>\n",
       "      <th>0</th>\n",
       "      <td>0.705745</td>\n",
       "      <td>-0.497823</td>\n",
       "      <td>1.221170</td>\n",
       "      <td>105.280062</td>\n",
       "    </tr>\n",
       "    <tr>\n",
       "      <th>1</th>\n",
       "      <td>1.334711</td>\n",
       "      <td>-0.340164</td>\n",
       "      <td>4.365080</td>\n",
       "      <td>73.037750</td>\n",
       "    </tr>\n",
       "    <tr>\n",
       "      <th>2</th>\n",
       "      <td>1.022732</td>\n",
       "      <td>0.151990</td>\n",
       "      <td>1.419926</td>\n",
       "      <td>85.265647</td>\n",
       "    </tr>\n",
       "    <tr>\n",
       "      <th>3</th>\n",
       "      <td>-0.032172</td>\n",
       "      <td>0.139033</td>\n",
       "      <td>2.978566</td>\n",
       "      <td>168.620776</td>\n",
       "    </tr>\n",
       "    <tr>\n",
       "      <th>4</th>\n",
       "      <td>1.988431</td>\n",
       "      <td>0.155413</td>\n",
       "      <td>4.751769</td>\n",
       "      <td>154.036647</td>\n",
       "    </tr>\n",
       "  </tbody>\n",
       "</table>\n",
       "</div>"
      ],
      "text/plain": [
       "         f0        f1        f2     product\n",
       "0  0.705745 -0.497823  1.221170  105.280062\n",
       "1  1.334711 -0.340164  4.365080   73.037750\n",
       "2  1.022732  0.151990  1.419926   85.265647\n",
       "3 -0.032172  0.139033  2.978566  168.620776\n",
       "4  1.988431  0.155413  4.751769  154.036647"
      ]
     },
     "execution_count": 5,
     "metadata": {},
     "output_type": "execute_result"
    }
   ],
   "source": [
    "#Eliminación Columna id\n",
    "region_0 = region_0.drop('id',axis=1)\n",
    "region_0.head()"
   ]
  },
  {
   "cell_type": "code",
   "execution_count": 6,
   "metadata": {},
   "outputs": [
    {
     "data": {
      "text/html": [
       "<div>\n",
       "<style scoped>\n",
       "    .dataframe tbody tr th:only-of-type {\n",
       "        vertical-align: middle;\n",
       "    }\n",
       "\n",
       "    .dataframe tbody tr th {\n",
       "        vertical-align: top;\n",
       "    }\n",
       "\n",
       "    .dataframe thead th {\n",
       "        text-align: right;\n",
       "    }\n",
       "</style>\n",
       "<table border=\"1\" class=\"dataframe\">\n",
       "  <thead>\n",
       "    <tr style=\"text-align: right;\">\n",
       "      <th></th>\n",
       "      <th>f0</th>\n",
       "      <th>f1</th>\n",
       "      <th>f2</th>\n",
       "      <th>product</th>\n",
       "    </tr>\n",
       "  </thead>\n",
       "  <tbody>\n",
       "    <tr>\n",
       "      <th>count</th>\n",
       "      <td>100000.000000</td>\n",
       "      <td>100000.000000</td>\n",
       "      <td>100000.000000</td>\n",
       "      <td>100000.000000</td>\n",
       "    </tr>\n",
       "    <tr>\n",
       "      <th>mean</th>\n",
       "      <td>0.500419</td>\n",
       "      <td>0.250143</td>\n",
       "      <td>2.502647</td>\n",
       "      <td>92.500000</td>\n",
       "    </tr>\n",
       "    <tr>\n",
       "      <th>std</th>\n",
       "      <td>0.871832</td>\n",
       "      <td>0.504433</td>\n",
       "      <td>3.248248</td>\n",
       "      <td>44.288691</td>\n",
       "    </tr>\n",
       "    <tr>\n",
       "      <th>min</th>\n",
       "      <td>-1.408605</td>\n",
       "      <td>-0.848218</td>\n",
       "      <td>-12.088328</td>\n",
       "      <td>0.000000</td>\n",
       "    </tr>\n",
       "    <tr>\n",
       "      <th>25%</th>\n",
       "      <td>-0.072580</td>\n",
       "      <td>-0.200881</td>\n",
       "      <td>0.287748</td>\n",
       "      <td>56.497507</td>\n",
       "    </tr>\n",
       "    <tr>\n",
       "      <th>50%</th>\n",
       "      <td>0.502360</td>\n",
       "      <td>0.250252</td>\n",
       "      <td>2.515969</td>\n",
       "      <td>91.849972</td>\n",
       "    </tr>\n",
       "    <tr>\n",
       "      <th>75%</th>\n",
       "      <td>1.073581</td>\n",
       "      <td>0.700646</td>\n",
       "      <td>4.715088</td>\n",
       "      <td>128.564089</td>\n",
       "    </tr>\n",
       "    <tr>\n",
       "      <th>max</th>\n",
       "      <td>2.362331</td>\n",
       "      <td>1.343769</td>\n",
       "      <td>16.003790</td>\n",
       "      <td>185.364347</td>\n",
       "    </tr>\n",
       "  </tbody>\n",
       "</table>\n",
       "</div>"
      ],
      "text/plain": [
       "                  f0             f1             f2        product\n",
       "count  100000.000000  100000.000000  100000.000000  100000.000000\n",
       "mean        0.500419       0.250143       2.502647      92.500000\n",
       "std         0.871832       0.504433       3.248248      44.288691\n",
       "min        -1.408605      -0.848218     -12.088328       0.000000\n",
       "25%        -0.072580      -0.200881       0.287748      56.497507\n",
       "50%         0.502360       0.250252       2.515969      91.849972\n",
       "75%         1.073581       0.700646       4.715088     128.564089\n",
       "max         2.362331       1.343769      16.003790     185.364347"
      ]
     },
     "execution_count": 6,
     "metadata": {},
     "output_type": "execute_result"
    }
   ],
   "source": [
    "#Resumen de estadísticas por columna\n",
    "region_0.describe()"
   ]
  },
  {
   "cell_type": "code",
   "execution_count": 7,
   "metadata": {},
   "outputs": [],
   "source": [
    "#Tabla de comparación valores de columnas\n",
    "variables_0 = pd.DataFrame({'min':[region_0['f0'].min(),region_0['f1'].min(),region_0['f2'].min()],\n",
    "                          'mean':[region_0['f0'].mean(),region_0['f1'].mean(),region_0['f2'].mean()],\n",
    "                          'max':[region_0['f0'].max(),region_0['f1'].mean(),region_0['f2'].max()]},\n",
    "                        index=('f0','f1','f2'))"
   ]
  },
  {
   "cell_type": "markdown",
   "metadata": {},
   "source": [
    "- No existen datos nulos en la tabla\n",
    "- Se elimina la columna de ID pues no es significativa para el entrenamiento del modelo\n",
    "- Los valores de las variables están dentro de rangos similares. No existe una notable diferencia de escalas, mismas que se resumen en la siguiente tabla:\n"
   ]
  },
  {
   "cell_type": "code",
   "execution_count": 8,
   "metadata": {},
   "outputs": [
    {
     "data": {
      "text/html": [
       "<div>\n",
       "<style scoped>\n",
       "    .dataframe tbody tr th:only-of-type {\n",
       "        vertical-align: middle;\n",
       "    }\n",
       "\n",
       "    .dataframe tbody tr th {\n",
       "        vertical-align: top;\n",
       "    }\n",
       "\n",
       "    .dataframe thead th {\n",
       "        text-align: right;\n",
       "    }\n",
       "</style>\n",
       "<table border=\"1\" class=\"dataframe\">\n",
       "  <thead>\n",
       "    <tr style=\"text-align: right;\">\n",
       "      <th></th>\n",
       "      <th>min</th>\n",
       "      <th>mean</th>\n",
       "      <th>max</th>\n",
       "    </tr>\n",
       "  </thead>\n",
       "  <tbody>\n",
       "    <tr>\n",
       "      <th>f0</th>\n",
       "      <td>-1.408605</td>\n",
       "      <td>0.500419</td>\n",
       "      <td>2.362331</td>\n",
       "    </tr>\n",
       "    <tr>\n",
       "      <th>f1</th>\n",
       "      <td>-0.848218</td>\n",
       "      <td>0.250143</td>\n",
       "      <td>0.250143</td>\n",
       "    </tr>\n",
       "    <tr>\n",
       "      <th>f2</th>\n",
       "      <td>-12.088328</td>\n",
       "      <td>2.502647</td>\n",
       "      <td>16.003790</td>\n",
       "    </tr>\n",
       "  </tbody>\n",
       "</table>\n",
       "</div>"
      ],
      "text/plain": [
       "          min      mean        max\n",
       "f0  -1.408605  0.500419   2.362331\n",
       "f1  -0.848218  0.250143   0.250143\n",
       "f2 -12.088328  2.502647  16.003790"
      ]
     },
     "execution_count": 8,
     "metadata": {},
     "output_type": "execute_result"
    }
   ],
   "source": [
    "variables_0"
   ]
  },
  {
   "cell_type": "markdown",
   "metadata": {},
   "source": [
    " ### Tabla Región 1"
   ]
  },
  {
   "cell_type": "code",
   "execution_count": 9,
   "metadata": {},
   "outputs": [
    {
     "name": "stdout",
     "output_type": "stream",
     "text": [
      "<class 'pandas.core.frame.DataFrame'>\n",
      "RangeIndex: 100000 entries, 0 to 99999\n",
      "Data columns (total 5 columns):\n",
      " #   Column   Non-Null Count   Dtype  \n",
      "---  ------   --------------   -----  \n",
      " 0   id       100000 non-null  object \n",
      " 1   f0       100000 non-null  float64\n",
      " 2   f1       100000 non-null  float64\n",
      " 3   f2       100000 non-null  float64\n",
      " 4   product  100000 non-null  float64\n",
      "dtypes: float64(4), object(1)\n",
      "memory usage: 3.8+ MB\n"
     ]
    }
   ],
   "source": [
    "region_1.info()"
   ]
  },
  {
   "cell_type": "code",
   "execution_count": 10,
   "metadata": {
    "scrolled": true
   },
   "outputs": [
    {
     "data": {
      "text/html": [
       "<div>\n",
       "<style scoped>\n",
       "    .dataframe tbody tr th:only-of-type {\n",
       "        vertical-align: middle;\n",
       "    }\n",
       "\n",
       "    .dataframe tbody tr th {\n",
       "        vertical-align: top;\n",
       "    }\n",
       "\n",
       "    .dataframe thead th {\n",
       "        text-align: right;\n",
       "    }\n",
       "</style>\n",
       "<table border=\"1\" class=\"dataframe\">\n",
       "  <thead>\n",
       "    <tr style=\"text-align: right;\">\n",
       "      <th></th>\n",
       "      <th>id</th>\n",
       "      <th>f0</th>\n",
       "      <th>f1</th>\n",
       "      <th>f2</th>\n",
       "      <th>product</th>\n",
       "    </tr>\n",
       "  </thead>\n",
       "  <tbody>\n",
       "    <tr>\n",
       "      <th>19097</th>\n",
       "      <td>4MwPB</td>\n",
       "      <td>4.796307</td>\n",
       "      <td>-0.725469</td>\n",
       "      <td>1.005011</td>\n",
       "      <td>26.953261</td>\n",
       "    </tr>\n",
       "    <tr>\n",
       "      <th>3465</th>\n",
       "      <td>Qb8Cj</td>\n",
       "      <td>0.531538</td>\n",
       "      <td>-9.629144</td>\n",
       "      <td>3.000029</td>\n",
       "      <td>84.038886</td>\n",
       "    </tr>\n",
       "    <tr>\n",
       "      <th>65455</th>\n",
       "      <td>UsU5P</td>\n",
       "      <td>-5.450849</td>\n",
       "      <td>-8.553381</td>\n",
       "      <td>1.001640</td>\n",
       "      <td>30.132364</td>\n",
       "    </tr>\n",
       "    <tr>\n",
       "      <th>91002</th>\n",
       "      <td>VbJUi</td>\n",
       "      <td>10.066318</td>\n",
       "      <td>-0.727316</td>\n",
       "      <td>5.006942</td>\n",
       "      <td>134.766305</td>\n",
       "    </tr>\n",
       "    <tr>\n",
       "      <th>33282</th>\n",
       "      <td>klo3P</td>\n",
       "      <td>7.525369</td>\n",
       "      <td>5.962200</td>\n",
       "      <td>1.002381</td>\n",
       "      <td>26.953261</td>\n",
       "    </tr>\n",
       "    <tr>\n",
       "      <th>81928</th>\n",
       "      <td>xKmDK</td>\n",
       "      <td>13.123162</td>\n",
       "      <td>1.763094</td>\n",
       "      <td>5.002104</td>\n",
       "      <td>134.766305</td>\n",
       "    </tr>\n",
       "    <tr>\n",
       "      <th>64219</th>\n",
       "      <td>B7pxB</td>\n",
       "      <td>-4.745422</td>\n",
       "      <td>-7.102273</td>\n",
       "      <td>4.004014</td>\n",
       "      <td>110.992147</td>\n",
       "    </tr>\n",
       "    <tr>\n",
       "      <th>70946</th>\n",
       "      <td>KStzI</td>\n",
       "      <td>15.562663</td>\n",
       "      <td>-10.900918</td>\n",
       "      <td>5.000761</td>\n",
       "      <td>134.766305</td>\n",
       "    </tr>\n",
       "    <tr>\n",
       "      <th>63613</th>\n",
       "      <td>Ge407</td>\n",
       "      <td>-6.727218</td>\n",
       "      <td>-17.791058</td>\n",
       "      <td>2.994555</td>\n",
       "      <td>84.038886</td>\n",
       "    </tr>\n",
       "    <tr>\n",
       "      <th>71999</th>\n",
       "      <td>gsoEA</td>\n",
       "      <td>-12.931676</td>\n",
       "      <td>0.545904</td>\n",
       "      <td>4.004089</td>\n",
       "      <td>110.992147</td>\n",
       "    </tr>\n",
       "  </tbody>\n",
       "</table>\n",
       "</div>"
      ],
      "text/plain": [
       "          id         f0         f1        f2     product\n",
       "19097  4MwPB   4.796307  -0.725469  1.005011   26.953261\n",
       "3465   Qb8Cj   0.531538  -9.629144  3.000029   84.038886\n",
       "65455  UsU5P  -5.450849  -8.553381  1.001640   30.132364\n",
       "91002  VbJUi  10.066318  -0.727316  5.006942  134.766305\n",
       "33282  klo3P   7.525369   5.962200  1.002381   26.953261\n",
       "81928  xKmDK  13.123162   1.763094  5.002104  134.766305\n",
       "64219  B7pxB  -4.745422  -7.102273  4.004014  110.992147\n",
       "70946  KStzI  15.562663 -10.900918  5.000761  134.766305\n",
       "63613  Ge407  -6.727218 -17.791058  2.994555   84.038886\n",
       "71999  gsoEA -12.931676   0.545904  4.004089  110.992147"
      ]
     },
     "execution_count": 10,
     "metadata": {},
     "output_type": "execute_result"
    }
   ],
   "source": [
    "region_1.sample(10)"
   ]
  },
  {
   "cell_type": "code",
   "execution_count": 11,
   "metadata": {},
   "outputs": [
    {
     "data": {
      "text/html": [
       "<div>\n",
       "<style scoped>\n",
       "    .dataframe tbody tr th:only-of-type {\n",
       "        vertical-align: middle;\n",
       "    }\n",
       "\n",
       "    .dataframe tbody tr th {\n",
       "        vertical-align: top;\n",
       "    }\n",
       "\n",
       "    .dataframe thead th {\n",
       "        text-align: right;\n",
       "    }\n",
       "</style>\n",
       "<table border=\"1\" class=\"dataframe\">\n",
       "  <thead>\n",
       "    <tr style=\"text-align: right;\">\n",
       "      <th></th>\n",
       "      <th>f0</th>\n",
       "      <th>f1</th>\n",
       "      <th>f2</th>\n",
       "      <th>product</th>\n",
       "    </tr>\n",
       "  </thead>\n",
       "  <tbody>\n",
       "    <tr>\n",
       "      <th>0</th>\n",
       "      <td>-15.001348</td>\n",
       "      <td>-8.276000</td>\n",
       "      <td>-0.005876</td>\n",
       "      <td>3.179103</td>\n",
       "    </tr>\n",
       "    <tr>\n",
       "      <th>1</th>\n",
       "      <td>14.272088</td>\n",
       "      <td>-3.475083</td>\n",
       "      <td>0.999183</td>\n",
       "      <td>26.953261</td>\n",
       "    </tr>\n",
       "    <tr>\n",
       "      <th>2</th>\n",
       "      <td>6.263187</td>\n",
       "      <td>-5.948386</td>\n",
       "      <td>5.001160</td>\n",
       "      <td>134.766305</td>\n",
       "    </tr>\n",
       "    <tr>\n",
       "      <th>3</th>\n",
       "      <td>-13.081196</td>\n",
       "      <td>-11.506057</td>\n",
       "      <td>4.999415</td>\n",
       "      <td>137.945408</td>\n",
       "    </tr>\n",
       "    <tr>\n",
       "      <th>4</th>\n",
       "      <td>12.702195</td>\n",
       "      <td>-8.147433</td>\n",
       "      <td>5.004363</td>\n",
       "      <td>134.766305</td>\n",
       "    </tr>\n",
       "  </tbody>\n",
       "</table>\n",
       "</div>"
      ],
      "text/plain": [
       "          f0         f1        f2     product\n",
       "0 -15.001348  -8.276000 -0.005876    3.179103\n",
       "1  14.272088  -3.475083  0.999183   26.953261\n",
       "2   6.263187  -5.948386  5.001160  134.766305\n",
       "3 -13.081196 -11.506057  4.999415  137.945408\n",
       "4  12.702195  -8.147433  5.004363  134.766305"
      ]
     },
     "execution_count": 11,
     "metadata": {},
     "output_type": "execute_result"
    }
   ],
   "source": [
    "#Eliminación Columna id\n",
    "region_1 = region_1.drop('id',axis=1)\n",
    "region_1.head()"
   ]
  },
  {
   "cell_type": "code",
   "execution_count": 12,
   "metadata": {},
   "outputs": [
    {
     "data": {
      "text/html": [
       "<div>\n",
       "<style scoped>\n",
       "    .dataframe tbody tr th:only-of-type {\n",
       "        vertical-align: middle;\n",
       "    }\n",
       "\n",
       "    .dataframe tbody tr th {\n",
       "        vertical-align: top;\n",
       "    }\n",
       "\n",
       "    .dataframe thead th {\n",
       "        text-align: right;\n",
       "    }\n",
       "</style>\n",
       "<table border=\"1\" class=\"dataframe\">\n",
       "  <thead>\n",
       "    <tr style=\"text-align: right;\">\n",
       "      <th></th>\n",
       "      <th>f0</th>\n",
       "      <th>f1</th>\n",
       "      <th>f2</th>\n",
       "      <th>product</th>\n",
       "    </tr>\n",
       "  </thead>\n",
       "  <tbody>\n",
       "    <tr>\n",
       "      <th>count</th>\n",
       "      <td>100000.000000</td>\n",
       "      <td>100000.000000</td>\n",
       "      <td>100000.000000</td>\n",
       "      <td>100000.000000</td>\n",
       "    </tr>\n",
       "    <tr>\n",
       "      <th>mean</th>\n",
       "      <td>1.141296</td>\n",
       "      <td>-4.796579</td>\n",
       "      <td>2.494541</td>\n",
       "      <td>68.825000</td>\n",
       "    </tr>\n",
       "    <tr>\n",
       "      <th>std</th>\n",
       "      <td>8.965932</td>\n",
       "      <td>5.119872</td>\n",
       "      <td>1.703572</td>\n",
       "      <td>45.944423</td>\n",
       "    </tr>\n",
       "    <tr>\n",
       "      <th>min</th>\n",
       "      <td>-31.609576</td>\n",
       "      <td>-26.358598</td>\n",
       "      <td>-0.018144</td>\n",
       "      <td>0.000000</td>\n",
       "    </tr>\n",
       "    <tr>\n",
       "      <th>25%</th>\n",
       "      <td>-6.298551</td>\n",
       "      <td>-8.267985</td>\n",
       "      <td>1.000021</td>\n",
       "      <td>26.953261</td>\n",
       "    </tr>\n",
       "    <tr>\n",
       "      <th>50%</th>\n",
       "      <td>1.153055</td>\n",
       "      <td>-4.813172</td>\n",
       "      <td>2.011479</td>\n",
       "      <td>57.085625</td>\n",
       "    </tr>\n",
       "    <tr>\n",
       "      <th>75%</th>\n",
       "      <td>8.621015</td>\n",
       "      <td>-1.332816</td>\n",
       "      <td>3.999904</td>\n",
       "      <td>107.813044</td>\n",
       "    </tr>\n",
       "    <tr>\n",
       "      <th>max</th>\n",
       "      <td>29.421755</td>\n",
       "      <td>18.734063</td>\n",
       "      <td>5.019721</td>\n",
       "      <td>137.945408</td>\n",
       "    </tr>\n",
       "  </tbody>\n",
       "</table>\n",
       "</div>"
      ],
      "text/plain": [
       "                  f0             f1             f2        product\n",
       "count  100000.000000  100000.000000  100000.000000  100000.000000\n",
       "mean        1.141296      -4.796579       2.494541      68.825000\n",
       "std         8.965932       5.119872       1.703572      45.944423\n",
       "min       -31.609576     -26.358598      -0.018144       0.000000\n",
       "25%        -6.298551      -8.267985       1.000021      26.953261\n",
       "50%         1.153055      -4.813172       2.011479      57.085625\n",
       "75%         8.621015      -1.332816       3.999904     107.813044\n",
       "max        29.421755      18.734063       5.019721     137.945408"
      ]
     },
     "execution_count": 12,
     "metadata": {},
     "output_type": "execute_result"
    }
   ],
   "source": [
    "#Resumen de estadísticas por columna\n",
    "region_1.describe()"
   ]
  },
  {
   "cell_type": "code",
   "execution_count": 13,
   "metadata": {},
   "outputs": [],
   "source": [
    "#Tabla de comparación valores de columnas\n",
    "variables_1 = pd.DataFrame({'min':[region_1['f0'].min(),region_1['f1'].min(),region_1['f2'].min()],\n",
    "                            \n",
    "                          'mean':[region_1['f0'].mean(),region_1['f1'].mean(),region_1['f2'].mean()],\n",
    "                          'max':[region_1['f0'].max(),region_1['f1'].mean(),region_1['f2'].max()]},\n",
    "                        index=('f0','f1','f2'))\n",
    "\n"
   ]
  },
  {
   "cell_type": "markdown",
   "metadata": {},
   "source": [
    "- No existen datos nulos en la tabla\n",
    "- Se elimina la columna de ID pues no es significativa para el entrenamiento del modelo\n",
    "- Los valores de las variables están dentro de rangos similares. No existe una notable diferencia de escalas, mismas que se resumen en la siguiente tabla:"
   ]
  },
  {
   "cell_type": "code",
   "execution_count": 14,
   "metadata": {},
   "outputs": [
    {
     "data": {
      "text/html": [
       "<div>\n",
       "<style scoped>\n",
       "    .dataframe tbody tr th:only-of-type {\n",
       "        vertical-align: middle;\n",
       "    }\n",
       "\n",
       "    .dataframe tbody tr th {\n",
       "        vertical-align: top;\n",
       "    }\n",
       "\n",
       "    .dataframe thead th {\n",
       "        text-align: right;\n",
       "    }\n",
       "</style>\n",
       "<table border=\"1\" class=\"dataframe\">\n",
       "  <thead>\n",
       "    <tr style=\"text-align: right;\">\n",
       "      <th></th>\n",
       "      <th>min</th>\n",
       "      <th>mean</th>\n",
       "      <th>max</th>\n",
       "    </tr>\n",
       "  </thead>\n",
       "  <tbody>\n",
       "    <tr>\n",
       "      <th>f0</th>\n",
       "      <td>-31.609576</td>\n",
       "      <td>1.141296</td>\n",
       "      <td>29.421755</td>\n",
       "    </tr>\n",
       "    <tr>\n",
       "      <th>f1</th>\n",
       "      <td>-26.358598</td>\n",
       "      <td>-4.796579</td>\n",
       "      <td>-4.796579</td>\n",
       "    </tr>\n",
       "    <tr>\n",
       "      <th>f2</th>\n",
       "      <td>-0.018144</td>\n",
       "      <td>2.494541</td>\n",
       "      <td>5.019721</td>\n",
       "    </tr>\n",
       "  </tbody>\n",
       "</table>\n",
       "</div>"
      ],
      "text/plain": [
       "          min      mean        max\n",
       "f0 -31.609576  1.141296  29.421755\n",
       "f1 -26.358598 -4.796579  -4.796579\n",
       "f2  -0.018144  2.494541   5.019721"
      ]
     },
     "execution_count": 14,
     "metadata": {},
     "output_type": "execute_result"
    }
   ],
   "source": [
    "variables_1"
   ]
  },
  {
   "cell_type": "markdown",
   "metadata": {},
   "source": [
    " ### Tabla Región 2"
   ]
  },
  {
   "cell_type": "code",
   "execution_count": 15,
   "metadata": {},
   "outputs": [
    {
     "name": "stdout",
     "output_type": "stream",
     "text": [
      "<class 'pandas.core.frame.DataFrame'>\n",
      "RangeIndex: 100000 entries, 0 to 99999\n",
      "Data columns (total 5 columns):\n",
      " #   Column   Non-Null Count   Dtype  \n",
      "---  ------   --------------   -----  \n",
      " 0   id       100000 non-null  object \n",
      " 1   f0       100000 non-null  float64\n",
      " 2   f1       100000 non-null  float64\n",
      " 3   f2       100000 non-null  float64\n",
      " 4   product  100000 non-null  float64\n",
      "dtypes: float64(4), object(1)\n",
      "memory usage: 3.8+ MB\n"
     ]
    }
   ],
   "source": [
    "region_2.info()"
   ]
  },
  {
   "cell_type": "code",
   "execution_count": 16,
   "metadata": {},
   "outputs": [
    {
     "data": {
      "text/html": [
       "<div>\n",
       "<style scoped>\n",
       "    .dataframe tbody tr th:only-of-type {\n",
       "        vertical-align: middle;\n",
       "    }\n",
       "\n",
       "    .dataframe tbody tr th {\n",
       "        vertical-align: top;\n",
       "    }\n",
       "\n",
       "    .dataframe thead th {\n",
       "        text-align: right;\n",
       "    }\n",
       "</style>\n",
       "<table border=\"1\" class=\"dataframe\">\n",
       "  <thead>\n",
       "    <tr style=\"text-align: right;\">\n",
       "      <th></th>\n",
       "      <th>id</th>\n",
       "      <th>f0</th>\n",
       "      <th>f1</th>\n",
       "      <th>f2</th>\n",
       "      <th>product</th>\n",
       "    </tr>\n",
       "  </thead>\n",
       "  <tbody>\n",
       "    <tr>\n",
       "      <th>25069</th>\n",
       "      <td>ELkPd</td>\n",
       "      <td>-2.856137</td>\n",
       "      <td>-0.726742</td>\n",
       "      <td>6.384667</td>\n",
       "      <td>155.296289</td>\n",
       "    </tr>\n",
       "    <tr>\n",
       "      <th>57208</th>\n",
       "      <td>wJ9Rs</td>\n",
       "      <td>1.055109</td>\n",
       "      <td>-2.007736</td>\n",
       "      <td>3.704554</td>\n",
       "      <td>101.503191</td>\n",
       "    </tr>\n",
       "    <tr>\n",
       "      <th>31959</th>\n",
       "      <td>baSpP</td>\n",
       "      <td>-0.834164</td>\n",
       "      <td>-2.847564</td>\n",
       "      <td>4.309993</td>\n",
       "      <td>180.883815</td>\n",
       "    </tr>\n",
       "    <tr>\n",
       "      <th>86942</th>\n",
       "      <td>wur1u</td>\n",
       "      <td>0.501574</td>\n",
       "      <td>0.172209</td>\n",
       "      <td>0.309756</td>\n",
       "      <td>26.036776</td>\n",
       "    </tr>\n",
       "    <tr>\n",
       "      <th>96896</th>\n",
       "      <td>ZhE5n</td>\n",
       "      <td>-1.021783</td>\n",
       "      <td>-1.077823</td>\n",
       "      <td>-2.362569</td>\n",
       "      <td>64.599051</td>\n",
       "    </tr>\n",
       "    <tr>\n",
       "      <th>21870</th>\n",
       "      <td>hQEnE</td>\n",
       "      <td>-0.302948</td>\n",
       "      <td>2.348216</td>\n",
       "      <td>-2.984205</td>\n",
       "      <td>76.918579</td>\n",
       "    </tr>\n",
       "    <tr>\n",
       "      <th>27004</th>\n",
       "      <td>PxH8I</td>\n",
       "      <td>-1.503664</td>\n",
       "      <td>0.331376</td>\n",
       "      <td>7.555615</td>\n",
       "      <td>129.824663</td>\n",
       "    </tr>\n",
       "    <tr>\n",
       "      <th>16611</th>\n",
       "      <td>SBZOv</td>\n",
       "      <td>0.509147</td>\n",
       "      <td>3.536783</td>\n",
       "      <td>-1.476442</td>\n",
       "      <td>107.009109</td>\n",
       "    </tr>\n",
       "    <tr>\n",
       "      <th>36717</th>\n",
       "      <td>DjZHV</td>\n",
       "      <td>1.157899</td>\n",
       "      <td>-0.074206</td>\n",
       "      <td>-1.172367</td>\n",
       "      <td>35.015824</td>\n",
       "    </tr>\n",
       "    <tr>\n",
       "      <th>69514</th>\n",
       "      <td>PZSqX</td>\n",
       "      <td>1.945766</td>\n",
       "      <td>0.317292</td>\n",
       "      <td>-0.427201</td>\n",
       "      <td>73.013270</td>\n",
       "    </tr>\n",
       "  </tbody>\n",
       "</table>\n",
       "</div>"
      ],
      "text/plain": [
       "          id        f0        f1        f2     product\n",
       "25069  ELkPd -2.856137 -0.726742  6.384667  155.296289\n",
       "57208  wJ9Rs  1.055109 -2.007736  3.704554  101.503191\n",
       "31959  baSpP -0.834164 -2.847564  4.309993  180.883815\n",
       "86942  wur1u  0.501574  0.172209  0.309756   26.036776\n",
       "96896  ZhE5n -1.021783 -1.077823 -2.362569   64.599051\n",
       "21870  hQEnE -0.302948  2.348216 -2.984205   76.918579\n",
       "27004  PxH8I -1.503664  0.331376  7.555615  129.824663\n",
       "16611  SBZOv  0.509147  3.536783 -1.476442  107.009109\n",
       "36717  DjZHV  1.157899 -0.074206 -1.172367   35.015824\n",
       "69514  PZSqX  1.945766  0.317292 -0.427201   73.013270"
      ]
     },
     "execution_count": 16,
     "metadata": {},
     "output_type": "execute_result"
    }
   ],
   "source": [
    "region_2.sample(10)"
   ]
  },
  {
   "cell_type": "code",
   "execution_count": 17,
   "metadata": {},
   "outputs": [
    {
     "data": {
      "text/html": [
       "<div>\n",
       "<style scoped>\n",
       "    .dataframe tbody tr th:only-of-type {\n",
       "        vertical-align: middle;\n",
       "    }\n",
       "\n",
       "    .dataframe tbody tr th {\n",
       "        vertical-align: top;\n",
       "    }\n",
       "\n",
       "    .dataframe thead th {\n",
       "        text-align: right;\n",
       "    }\n",
       "</style>\n",
       "<table border=\"1\" class=\"dataframe\">\n",
       "  <thead>\n",
       "    <tr style=\"text-align: right;\">\n",
       "      <th></th>\n",
       "      <th>f0</th>\n",
       "      <th>f1</th>\n",
       "      <th>f2</th>\n",
       "      <th>product</th>\n",
       "    </tr>\n",
       "  </thead>\n",
       "  <tbody>\n",
       "    <tr>\n",
       "      <th>0</th>\n",
       "      <td>-1.146987</td>\n",
       "      <td>0.963328</td>\n",
       "      <td>-0.828965</td>\n",
       "      <td>27.758673</td>\n",
       "    </tr>\n",
       "    <tr>\n",
       "      <th>1</th>\n",
       "      <td>0.262778</td>\n",
       "      <td>0.269839</td>\n",
       "      <td>-2.530187</td>\n",
       "      <td>56.069697</td>\n",
       "    </tr>\n",
       "    <tr>\n",
       "      <th>2</th>\n",
       "      <td>0.194587</td>\n",
       "      <td>0.289035</td>\n",
       "      <td>-5.586433</td>\n",
       "      <td>62.871910</td>\n",
       "    </tr>\n",
       "    <tr>\n",
       "      <th>3</th>\n",
       "      <td>2.236060</td>\n",
       "      <td>-0.553760</td>\n",
       "      <td>0.930038</td>\n",
       "      <td>114.572842</td>\n",
       "    </tr>\n",
       "    <tr>\n",
       "      <th>4</th>\n",
       "      <td>-0.515993</td>\n",
       "      <td>1.716266</td>\n",
       "      <td>5.899011</td>\n",
       "      <td>149.600746</td>\n",
       "    </tr>\n",
       "  </tbody>\n",
       "</table>\n",
       "</div>"
      ],
      "text/plain": [
       "         f0        f1        f2     product\n",
       "0 -1.146987  0.963328 -0.828965   27.758673\n",
       "1  0.262778  0.269839 -2.530187   56.069697\n",
       "2  0.194587  0.289035 -5.586433   62.871910\n",
       "3  2.236060 -0.553760  0.930038  114.572842\n",
       "4 -0.515993  1.716266  5.899011  149.600746"
      ]
     },
     "execution_count": 17,
     "metadata": {},
     "output_type": "execute_result"
    }
   ],
   "source": [
    "#Eliminación Columna id\n",
    "region_2 = region_2.drop('id',axis=1)\n",
    "region_2.head()"
   ]
  },
  {
   "cell_type": "code",
   "execution_count": 18,
   "metadata": {},
   "outputs": [
    {
     "data": {
      "text/html": [
       "<div>\n",
       "<style scoped>\n",
       "    .dataframe tbody tr th:only-of-type {\n",
       "        vertical-align: middle;\n",
       "    }\n",
       "\n",
       "    .dataframe tbody tr th {\n",
       "        vertical-align: top;\n",
       "    }\n",
       "\n",
       "    .dataframe thead th {\n",
       "        text-align: right;\n",
       "    }\n",
       "</style>\n",
       "<table border=\"1\" class=\"dataframe\">\n",
       "  <thead>\n",
       "    <tr style=\"text-align: right;\">\n",
       "      <th></th>\n",
       "      <th>f0</th>\n",
       "      <th>f1</th>\n",
       "      <th>f2</th>\n",
       "      <th>product</th>\n",
       "    </tr>\n",
       "  </thead>\n",
       "  <tbody>\n",
       "    <tr>\n",
       "      <th>count</th>\n",
       "      <td>100000.000000</td>\n",
       "      <td>100000.000000</td>\n",
       "      <td>100000.000000</td>\n",
       "      <td>100000.000000</td>\n",
       "    </tr>\n",
       "    <tr>\n",
       "      <th>mean</th>\n",
       "      <td>0.002023</td>\n",
       "      <td>-0.002081</td>\n",
       "      <td>2.495128</td>\n",
       "      <td>95.000000</td>\n",
       "    </tr>\n",
       "    <tr>\n",
       "      <th>std</th>\n",
       "      <td>1.732045</td>\n",
       "      <td>1.730417</td>\n",
       "      <td>3.473445</td>\n",
       "      <td>44.749921</td>\n",
       "    </tr>\n",
       "    <tr>\n",
       "      <th>min</th>\n",
       "      <td>-8.760004</td>\n",
       "      <td>-7.084020</td>\n",
       "      <td>-11.970335</td>\n",
       "      <td>0.000000</td>\n",
       "    </tr>\n",
       "    <tr>\n",
       "      <th>25%</th>\n",
       "      <td>-1.162288</td>\n",
       "      <td>-1.174820</td>\n",
       "      <td>0.130359</td>\n",
       "      <td>59.450441</td>\n",
       "    </tr>\n",
       "    <tr>\n",
       "      <th>50%</th>\n",
       "      <td>0.009424</td>\n",
       "      <td>-0.009482</td>\n",
       "      <td>2.484236</td>\n",
       "      <td>94.925613</td>\n",
       "    </tr>\n",
       "    <tr>\n",
       "      <th>75%</th>\n",
       "      <td>1.158535</td>\n",
       "      <td>1.163678</td>\n",
       "      <td>4.858794</td>\n",
       "      <td>130.595027</td>\n",
       "    </tr>\n",
       "    <tr>\n",
       "      <th>max</th>\n",
       "      <td>7.238262</td>\n",
       "      <td>7.844801</td>\n",
       "      <td>16.739402</td>\n",
       "      <td>190.029838</td>\n",
       "    </tr>\n",
       "  </tbody>\n",
       "</table>\n",
       "</div>"
      ],
      "text/plain": [
       "                  f0             f1             f2        product\n",
       "count  100000.000000  100000.000000  100000.000000  100000.000000\n",
       "mean        0.002023      -0.002081       2.495128      95.000000\n",
       "std         1.732045       1.730417       3.473445      44.749921\n",
       "min        -8.760004      -7.084020     -11.970335       0.000000\n",
       "25%        -1.162288      -1.174820       0.130359      59.450441\n",
       "50%         0.009424      -0.009482       2.484236      94.925613\n",
       "75%         1.158535       1.163678       4.858794     130.595027\n",
       "max         7.238262       7.844801      16.739402     190.029838"
      ]
     },
     "execution_count": 18,
     "metadata": {},
     "output_type": "execute_result"
    }
   ],
   "source": [
    "#Resumen de estadísticas por columna\n",
    "region_2.describe()"
   ]
  },
  {
   "cell_type": "code",
   "execution_count": 19,
   "metadata": {},
   "outputs": [],
   "source": [
    "#Tabla de comparación valores de columnas\n",
    "variables_2 = pd.DataFrame({'min':[region_2['f0'].min(),region_2['f1'].min(),region_2['f2'].min()],\n",
    "                            \n",
    "                          'mean':[region_2['f0'].mean(),region_2['f1'].mean(),region_2['f2'].mean()],\n",
    "                          'max':[region_2['f0'].max(),region_2['f1'].mean(),region_2['f2'].max()]},\n",
    "                        index=('f0','f1','f2'))\n"
   ]
  },
  {
   "cell_type": "markdown",
   "metadata": {},
   "source": [
    "- No existen datos nulos en la tabla\n",
    "- Se elimina la columna de ID pues no es significativa para el entrenamiento del modelo\n",
    "- Los valores de las variables están dentro de rangos similares. No existe una notable diferencia de escalas, mismas que se resumen en la siguiente tabla:\n"
   ]
  },
  {
   "cell_type": "code",
   "execution_count": 20,
   "metadata": {
    "scrolled": true
   },
   "outputs": [
    {
     "data": {
      "text/html": [
       "<div>\n",
       "<style scoped>\n",
       "    .dataframe tbody tr th:only-of-type {\n",
       "        vertical-align: middle;\n",
       "    }\n",
       "\n",
       "    .dataframe tbody tr th {\n",
       "        vertical-align: top;\n",
       "    }\n",
       "\n",
       "    .dataframe thead th {\n",
       "        text-align: right;\n",
       "    }\n",
       "</style>\n",
       "<table border=\"1\" class=\"dataframe\">\n",
       "  <thead>\n",
       "    <tr style=\"text-align: right;\">\n",
       "      <th></th>\n",
       "      <th>min</th>\n",
       "      <th>mean</th>\n",
       "      <th>max</th>\n",
       "    </tr>\n",
       "  </thead>\n",
       "  <tbody>\n",
       "    <tr>\n",
       "      <th>f0</th>\n",
       "      <td>-8.760004</td>\n",
       "      <td>0.002023</td>\n",
       "      <td>7.238262</td>\n",
       "    </tr>\n",
       "    <tr>\n",
       "      <th>f1</th>\n",
       "      <td>-7.084020</td>\n",
       "      <td>-0.002081</td>\n",
       "      <td>-0.002081</td>\n",
       "    </tr>\n",
       "    <tr>\n",
       "      <th>f2</th>\n",
       "      <td>-11.970335</td>\n",
       "      <td>2.495128</td>\n",
       "      <td>16.739402</td>\n",
       "    </tr>\n",
       "  </tbody>\n",
       "</table>\n",
       "</div>"
      ],
      "text/plain": [
       "          min      mean        max\n",
       "f0  -8.760004  0.002023   7.238262\n",
       "f1  -7.084020 -0.002081  -0.002081\n",
       "f2 -11.970335  2.495128  16.739402"
      ]
     },
     "execution_count": 20,
     "metadata": {},
     "output_type": "execute_result"
    }
   ],
   "source": [
    "variables_2"
   ]
  },
  {
   "cell_type": "markdown",
   "metadata": {},
   "source": [
    "## Separación - Entrenamiento "
   ]
  },
  {
   "cell_type": "code",
   "execution_count": 21,
   "metadata": {},
   "outputs": [],
   "source": [
    "#Función separación y entrenamiento del modelo\n",
    "def split_model(data):\n",
    "    features = data.drop('product',axis=1)\n",
    "    target = data['product']\n",
    "    features_train,features_valid,target_train,target_valid = train_test_split(features,target,\n",
    "                                                                           test_size=0.25,\n",
    "                                                                           random_state=12345)\n",
    "    model = LinearRegression()\n",
    "    model.fit(features_train,target_train)\n",
    "    predicted_valid = model.predict(features_valid)\n",
    "    mse = mean_squared_error(target_valid,predicted_valid)\n",
    "    rmse = mse**0.5\n",
    "    print ('RSME:',rmse, '| Volumen Medio de Reservas:',predicted_valid.mean())\n",
    "    return target_valid,pd.Series(predicted_valid,index=target_valid.index)"
   ]
  },
  {
   "cell_type": "markdown",
   "metadata": {},
   "source": [
    "**Region 0**"
   ]
  },
  {
   "cell_type": "code",
   "execution_count": 22,
   "metadata": {},
   "outputs": [
    {
     "name": "stdout",
     "output_type": "stream",
     "text": [
      "RSME: 37.5794217150813 | Volumen Medio de Reservas: 92.59256778438035\n"
     ]
    }
   ],
   "source": [
    "target_0,predicted_0 = split_model(region_0)"
   ]
  },
  {
   "cell_type": "markdown",
   "metadata": {},
   "source": [
    "**Region 1**"
   ]
  },
  {
   "cell_type": "code",
   "execution_count": 23,
   "metadata": {},
   "outputs": [
    {
     "name": "stdout",
     "output_type": "stream",
     "text": [
      "RSME: 0.893099286775617 | Volumen Medio de Reservas: 68.728546895446\n"
     ]
    }
   ],
   "source": [
    "target_1,predicted_1 = split_model(region_1)"
   ]
  },
  {
   "cell_type": "markdown",
   "metadata": {},
   "source": [
    "**Región 2**"
   ]
  },
  {
   "cell_type": "code",
   "execution_count": 24,
   "metadata": {
    "scrolled": true
   },
   "outputs": [
    {
     "name": "stdout",
     "output_type": "stream",
     "text": [
      "RSME: 40.02970873393434 | Volumen Medio de Reservas: 94.96504596800489\n"
     ]
    }
   ],
   "source": [
    "target_2,predicted_2 = split_model(region_2)"
   ]
  },
  {
   "cell_type": "markdown",
   "metadata": {},
   "source": [
    "- El RSME indica que para la región 1, el modelo predice con un error muy bajo las unidades de los pozos, a diferencia de las regiones 0 y 2, donde el RSME está en 37 y 40 respectivamente, indicando que el modelo tiene un error acumulado mucho mayor al predecir.\n",
    "- El volumen medio de Reservas predicho por el modelo es mas alto en la región 2, seguido muy de cerca por la región 0. La región 1 tiene reservas mucho menores.\n",
    "- Las variables f1 y f0 tienen un rango mucho mas amplio en la tabla de la región 1, puede ser esta la razón por la que el modelo puede generar una regresión con menor RMSE comparado con las predicciones en las otras regiones."
   ]
  },
  {
   "cell_type": "markdown",
   "metadata": {},
   "source": [
    "## Estimación de Ganancias"
   ]
  },
  {
   "cell_type": "markdown",
   "metadata": {},
   "source": [
    "### Constantes"
   ]
  },
  {
   "cell_type": "code",
   "execution_count": 25,
   "metadata": {},
   "outputs": [],
   "source": [
    "investment = 100000000\n",
    "oil_wells = 200\n",
    "earnings_unit = 4500"
   ]
  },
  {
   "cell_type": "markdown",
   "metadata": {},
   "source": [
    "###  Ganancias Y Unidades"
   ]
  },
  {
   "cell_type": "code",
   "execution_count": 26,
   "metadata": {},
   "outputs": [],
   "source": [
    "# Función calculo de mejores pozos y sus ganancias\n",
    "def earnings(target,predicted):\n",
    "    \n",
    "    best_wells = predicted.sort_values(ascending=False)\n",
    "    units = target[best_wells.index][:oil_wells].sum()\n",
    "    earnings = (units*earnings_unit)-investment\n",
    "    \n",
    "    return earnings,units\n",
    "    "
   ]
  },
  {
   "cell_type": "markdown",
   "metadata": {},
   "source": [
    "**Ganancias Potenciales Región 0**"
   ]
  },
  {
   "cell_type": "code",
   "execution_count": 27,
   "metadata": {},
   "outputs": [
    {
     "name": "stdout",
     "output_type": "stream",
     "text": [
      "Potencial para 200 pozos:\n",
      "Unidades totales= 29601.84 | Ganancia total= $33208260.43\n"
     ]
    }
   ],
   "source": [
    "earnings_r0,units_r0 = earnings(target_0,predicted_0)\n",
    "print('Potencial para 200 pozos:')\n",
    "print(f\"Unidades totales= {units_r0:.2f} | Ganancia total= ${earnings_r0:.2f}\")"
   ]
  },
  {
   "cell_type": "markdown",
   "metadata": {},
   "source": [
    "**Ganancias Potenciales Región 1**"
   ]
  },
  {
   "cell_type": "code",
   "execution_count": 28,
   "metadata": {},
   "outputs": [
    {
     "name": "stdout",
     "output_type": "stream",
     "text": [
      "Potencial para 200 pozos:\n",
      "Unidades totales= 27589.08 | Ganancia total= $24150866.97\n"
     ]
    }
   ],
   "source": [
    "earnings_r1,units_r1 = earnings(target_1,predicted_1)\n",
    "print('Potencial para 200 pozos:')\n",
    "print(f\"Unidades totales= {units_r1:.2f} | Ganancia total= ${earnings_r1:.2f}\")"
   ]
  },
  {
   "cell_type": "markdown",
   "metadata": {},
   "source": [
    "**Ganancias Potenciales Región 2**"
   ]
  },
  {
   "cell_type": "code",
   "execution_count": 29,
   "metadata": {
    "scrolled": true
   },
   "outputs": [
    {
     "name": "stdout",
     "output_type": "stream",
     "text": [
      "Potencial para 200 pozos:\n",
      "Unidades totales= 28245.22 | Ganancia total= $27103499.64\n"
     ]
    }
   ],
   "source": [
    "earnings_r2,units_r2 = earnings(target_2,predicted_2)\n",
    "print('Potencial para 200 pozos:')\n",
    "print(f\"Unidades totales= {units_r2:.2f} | Ganancia total= ${earnings_r2:.2f}\")"
   ]
  },
  {
   "cell_type": "markdown",
   "metadata": {},
   "source": [
    "**Comparación Regiones**"
   ]
  },
  {
   "cell_type": "code",
   "execution_count": 30,
   "metadata": {
    "scrolled": true
   },
   "outputs": [
    {
     "data": {
      "text/html": [
       "<div>\n",
       "<style scoped>\n",
       "    .dataframe tbody tr th:only-of-type {\n",
       "        vertical-align: middle;\n",
       "    }\n",
       "\n",
       "    .dataframe tbody tr th {\n",
       "        vertical-align: top;\n",
       "    }\n",
       "\n",
       "    .dataframe thead th {\n",
       "        text-align: right;\n",
       "    }\n",
       "</style>\n",
       "<table border=\"1\" class=\"dataframe\">\n",
       "  <thead>\n",
       "    <tr style=\"text-align: right;\">\n",
       "      <th></th>\n",
       "      <th>Unidades</th>\n",
       "      <th>Ganacias</th>\n",
       "    </tr>\n",
       "  </thead>\n",
       "  <tbody>\n",
       "    <tr>\n",
       "      <th>Region 0</th>\n",
       "      <td>29601.835651</td>\n",
       "      <td>3.320826e+07</td>\n",
       "    </tr>\n",
       "    <tr>\n",
       "      <th>Region 1</th>\n",
       "      <td>27589.081548</td>\n",
       "      <td>2.415087e+07</td>\n",
       "    </tr>\n",
       "    <tr>\n",
       "      <th>Region 2</th>\n",
       "      <td>28245.222141</td>\n",
       "      <td>2.710350e+07</td>\n",
       "    </tr>\n",
       "  </tbody>\n",
       "</table>\n",
       "</div>"
      ],
      "text/plain": [
       "              Unidades      Ganacias\n",
       "Region 0  29601.835651  3.320826e+07\n",
       "Region 1  27589.081548  2.415087e+07\n",
       "Region 2  28245.222141  2.710350e+07"
      ]
     },
     "execution_count": 30,
     "metadata": {},
     "output_type": "execute_result"
    }
   ],
   "source": [
    "#Tabla de comparación ganancias estimadas por región\n",
    "region_estimated = pd.DataFrame({'Unidades':[units_r0,units_r1,units_r2],\n",
    "                          'Ganacias':[earnings_r0,earnings_r1,earnings_r2]},\n",
    "                        index=('Region 0','Region 1','Region 2'))\n",
    "region_estimated"
   ]
  },
  {
   "cell_type": "markdown",
   "metadata": {},
   "source": [
    "De acuerdo a las Unidades y las ganacias potenciales para los mejores 200 pozos, la mas adecuada para hacer la inversión es la Región 0, con un ingreso estimado de 33 millones sobre la inversión."
   ]
  },
  {
   "cell_type": "markdown",
   "metadata": {},
   "source": [
    "## Ganancias Y Riesgos"
   ]
  },
  {
   "cell_type": "code",
   "execution_count": 31,
   "metadata": {},
   "outputs": [],
   "source": [
    "#Función para hacer bootstraping\n",
    "def boots(target,predicted):\n",
    "    #Variable state para poder replicar el experimento\n",
    "    state = np.random.RandomState(1234)\n",
    "    values = []\n",
    "    \n",
    "    for i in range(1000):\n",
    "        #Analizamos muestras de 500 pozos como indican las condiciones\n",
    "        subsample = target.sample(n=500,replace=True,random_state=state)\n",
    "        pred_subsample = predicted [subsample.index]\n",
    "        \n",
    "        #Obtenemos la ganancia para los mejores 200 pozos de cada muestra\n",
    "        earning = earnings(subsample,pred_subsample)[0]\n",
    "        values.append(earning)\n",
    "    \n",
    "    values = pd.Series(values)\n",
    "    #Obtenemos los límites para un 95% de probabilidad y el promedio\n",
    "    lower = values.quantile(0.025,interpolation='linear')\n",
    "    upper = values.quantile(0.975,interpolation='linear')\n",
    "    avg = values.mean()\n",
    "    #Cálculo de pérdidas con función de distribución acumulativa para el valor 0\n",
    "    lost = norm.cdf((0-avg)/np.std(values))*100\n",
    "    \n",
    "    values.hist(bins=20,color='skyblue')\n",
    "    plt.title('Earnings Distribution For 200 Best Oil Wells')\n",
    "    plt.xlabel('Revenue/USD')\n",
    "    plt.axvline(x=lower, color='green',linestyle='dotted')\n",
    "    plt.axvline(x=upper, color='green',linestyle='dotted')\n",
    "    plt.axvline(x=avg, color='red',linestyle='dotted')\n",
    "    plt.grid(False)\n",
    "    plt.show()\n",
    "    \n",
    "    print(f'Intervalo de Confianza con 95% Probabilidad:[${lower:.2f} a ${upper:.2f}]')\n",
    "    print(f'Ganancia Media: ${avg:.2f}')\n",
    "    print(f'Pérdidas: {lost:.2f}%')\n",
    "    \n",
    "    return lower,avg,upper,lost"
   ]
  },
  {
   "cell_type": "markdown",
   "metadata": {},
   "source": [
    "**Region 0**"
   ]
  },
  {
   "cell_type": "code",
   "execution_count": 32,
   "metadata": {
    "scrolled": true
   },
   "outputs": [
    {
     "data": {
      "image/png": "[encoded data removed]",
      "text/plain": [
       "<Figure size 640x480 with 1 Axes>"
      ]
     },
     "metadata": {},
     "output_type": "display_data"
    },
    {
     "name": "stdout",
     "output_type": "stream",
     "text": [
      "Intervalo de Confianza con 95% Probabilidad:[$-1128399.19 a $9649348.86]\n",
      "Ganancia Media: $4178188.53\n",
      "Pérdidas: 6.36%\n"
     ]
    }
   ],
   "source": [
    "lower_0,avg_0,upper_0,lost_0 = boots(target_0,predicted_0)"
   ]
  },
  {
   "cell_type": "markdown",
   "metadata": {},
   "source": [
    "**Region 1**"
   ]
  },
  {
   "cell_type": "code",
   "execution_count": 33,
   "metadata": {
    "scrolled": false
   },
   "outputs": [
    {
     "data": {
      "image/png": "[encoded data removed]",
      "text/plain": [
       "<Figure size 640x480 with 1 Axes>"
      ]
     },
     "metadata": {},
     "output_type": "display_data"
    },
    {
     "name": "stdout",
     "output_type": "stream",
     "text": [
      "Intervalo de Confianza con 95% Probabilidad:[$1002406.01 a $9164983.42]\n",
      "Ganancia Media: $5077401.96\n",
      "Pérdidas: 0.79%\n"
     ]
    }
   ],
   "source": [
    "lower_1,avg_1,upper_1,lost_1 = boots(target_1,predicted_1)"
   ]
  },
  {
   "cell_type": "markdown",
   "metadata": {},
   "source": [
    "**Region 2**"
   ]
  },
  {
   "cell_type": "code",
   "execution_count": 34,
   "metadata": {
    "scrolled": true
   },
   "outputs": [
    {
     "data": {
      "image/png": "[encoded data removed]",
      "text/plain": [
       "<Figure size 640x480 with 1 Axes>"
      ]
     },
     "metadata": {},
     "output_type": "display_data"
    },
    {
     "name": "stdout",
     "output_type": "stream",
     "text": [
      "Intervalo de Confianza con 95% Probabilidad:[$-1154016.67 a $9678324.16]\n",
      "Ganancia Media: $4234595.58\n",
      "Pérdidas: 6.57%\n"
     ]
    }
   ],
   "source": [
    "lower_2,avg_2,upper_2,lost_2 = boots(target_2,predicted_2)"
   ]
  },
  {
   "cell_type": "code",
   "execution_count": 35,
   "metadata": {
    "scrolled": true
   },
   "outputs": [
    {
     "data": {
      "text/html": [
       "<div>\n",
       "<style scoped>\n",
       "    .dataframe tbody tr th:only-of-type {\n",
       "        vertical-align: middle;\n",
       "    }\n",
       "\n",
       "    .dataframe tbody tr th {\n",
       "        vertical-align: top;\n",
       "    }\n",
       "\n",
       "    .dataframe thead th {\n",
       "        text-align: right;\n",
       "    }\n",
       "</style>\n",
       "<table border=\"1\" class=\"dataframe\">\n",
       "  <thead>\n",
       "    <tr style=\"text-align: right;\">\n",
       "      <th></th>\n",
       "      <th>Min</th>\n",
       "      <th>Mean</th>\n",
       "      <th>Max</th>\n",
       "      <th>Lost %</th>\n",
       "    </tr>\n",
       "  </thead>\n",
       "  <tbody>\n",
       "    <tr>\n",
       "      <th>Region 0</th>\n",
       "      <td>-1.128399e+06</td>\n",
       "      <td>4.178189e+06</td>\n",
       "      <td>9.649349e+06</td>\n",
       "      <td>6.359954</td>\n",
       "    </tr>\n",
       "    <tr>\n",
       "      <th>Region 1</th>\n",
       "      <td>1.002406e+06</td>\n",
       "      <td>5.077402e+06</td>\n",
       "      <td>9.164983e+06</td>\n",
       "      <td>0.791914</td>\n",
       "    </tr>\n",
       "    <tr>\n",
       "      <th>Region 2</th>\n",
       "      <td>-1.154017e+06</td>\n",
       "      <td>4.234596e+06</td>\n",
       "      <td>9.678324e+06</td>\n",
       "      <td>6.574855</td>\n",
       "    </tr>\n",
       "  </tbody>\n",
       "</table>\n",
       "</div>"
      ],
      "text/plain": [
       "                   Min          Mean           Max    Lost %\n",
       "Region 0 -1.128399e+06  4.178189e+06  9.649349e+06  6.359954\n",
       "Region 1  1.002406e+06  5.077402e+06  9.164983e+06  0.791914\n",
       "Region 2 -1.154017e+06  4.234596e+06  9.678324e+06  6.574855"
      ]
     },
     "execution_count": 35,
     "metadata": {},
     "output_type": "execute_result"
    }
   ],
   "source": [
    "#Tabla de comparación Intervalo de confianza\n",
    "region_revenue = pd.DataFrame({'Min':[lower_0,lower_1,lower_2],\n",
    "                          'Mean':[avg_0,avg_1,avg_2],\n",
    "                           'Max':[upper_0,upper_1,upper_2],\n",
    "                           'Lost %':[lost_0,lost_1,lost_2]},\n",
    "                        index=('Region 0','Region 1','Region 2'))\n",
    "region_revenue"
   ]
  },
  {
   "cell_type": "markdown",
   "metadata": {},
   "source": [
    "Tomando en cuenta la tabla resumen, y las condiciones para la inversión, la Región adecuada sería la número 1, pues es la que tiene como media el mayor valor (5 millones de USD) y la única que cumple el criterio de tener un riesgo de pérdidas menor a 2.5% (0.7%).\n",
    "\n",
    "También se puede confirmar que es la región en la que el modelo ha predicho mejor los valores de unidades (target)"
   ]
  }
 ],
 "metadata": {
  "ExecuteTimeLog": [
   {
    "duration": 3,
    "start_time": "2024-11-26T23:17:59.390Z"
   },
   {
    "duration": 173,
    "start_time": "2024-11-26T23:23:21.087Z"
   },
   {
    "duration": 308,
    "start_time": "2024-11-26T23:23:27.409Z"
   },
   {
    "duration": 409,
    "start_time": "2024-11-26T23:23:30.195Z"
   },
   {
    "duration": 70,
    "start_time": "2024-11-26T23:23:44.938Z"
   },
   {
    "duration": 116,
    "start_time": "2024-11-26T23:25:31.024Z"
   },
   {
    "duration": 88,
    "start_time": "2024-11-26T23:25:38.753Z"
   },
   {
    "duration": 296,
    "start_time": "2024-11-27T04:09:58.358Z"
   },
   {
    "duration": 111,
    "start_time": "2024-11-27T04:09:58.656Z"
   },
   {
    "duration": 277,
    "start_time": "2024-11-27T04:11:10.029Z"
   },
   {
    "duration": 11,
    "start_time": "2024-11-27T04:12:36.862Z"
   },
   {
    "duration": 172,
    "start_time": "2024-11-27T04:19:42.234Z"
   },
   {
    "duration": 215,
    "start_time": "2024-11-27T04:19:45.717Z"
   },
   {
    "duration": 12,
    "start_time": "2024-11-27T04:19:48.491Z"
   },
   {
    "duration": 9,
    "start_time": "2024-11-27T04:20:09.717Z"
   },
   {
    "duration": 10,
    "start_time": "2024-11-27T04:20:25.654Z"
   },
   {
    "duration": 10,
    "start_time": "2024-11-27T04:21:06.231Z"
   },
   {
    "duration": 10,
    "start_time": "2024-11-27T04:21:29.153Z"
   },
   {
    "duration": 9,
    "start_time": "2024-11-27T04:21:32.214Z"
   },
   {
    "duration": 10,
    "start_time": "2024-11-27T04:21:36.106Z"
   },
   {
    "duration": 12,
    "start_time": "2024-11-27T04:27:06.659Z"
   },
   {
    "duration": 11,
    "start_time": "2024-11-27T04:27:57.212Z"
   },
   {
    "duration": 10,
    "start_time": "2024-11-27T04:28:02.157Z"
   },
   {
    "duration": 9,
    "start_time": "2024-11-27T04:28:07.049Z"
   },
   {
    "duration": 12,
    "start_time": "2024-11-27T04:28:10.553Z"
   },
   {
    "duration": 11,
    "start_time": "2024-11-27T04:28:14.794Z"
   },
   {
    "duration": 14,
    "start_time": "2024-11-27T04:48:34.583Z"
   },
   {
    "duration": 10,
    "start_time": "2024-11-27T04:48:47.644Z"
   },
   {
    "duration": 10,
    "start_time": "2024-11-27T04:48:51.763Z"
   },
   {
    "duration": 9,
    "start_time": "2024-11-27T04:48:55.449Z"
   },
   {
    "duration": 9,
    "start_time": "2024-11-27T04:48:58.941Z"
   },
   {
    "duration": 13,
    "start_time": "2024-11-27T04:49:01.620Z"
   },
   {
    "duration": 10,
    "start_time": "2024-11-27T04:49:19.942Z"
   },
   {
    "duration": 301,
    "start_time": "2024-11-27T14:35:18.892Z"
   },
   {
    "duration": 319,
    "start_time": "2024-11-27T14:35:19.196Z"
   },
   {
    "duration": 12,
    "start_time": "2024-11-27T14:35:19.517Z"
   },
   {
    "duration": 14,
    "start_time": "2024-11-27T14:35:19.531Z"
   },
   {
    "duration": 8,
    "start_time": "2024-11-27T14:35:19.548Z"
   },
   {
    "duration": 8,
    "start_time": "2024-11-27T14:35:19.558Z"
   },
   {
    "duration": 8,
    "start_time": "2024-11-27T14:35:19.567Z"
   },
   {
    "duration": 12,
    "start_time": "2024-11-27T14:35:19.577Z"
   },
   {
    "duration": 12,
    "start_time": "2024-11-27T14:35:19.624Z"
   },
   {
    "duration": 8,
    "start_time": "2024-11-27T14:35:19.638Z"
   },
   {
    "duration": 8,
    "start_time": "2024-11-27T14:35:19.648Z"
   },
   {
    "duration": 9,
    "start_time": "2024-11-27T14:35:19.658Z"
   },
   {
    "duration": 14,
    "start_time": "2024-11-27T14:35:19.668Z"
   },
   {
    "duration": 44,
    "start_time": "2024-11-27T14:35:19.685Z"
   },
   {
    "duration": 9,
    "start_time": "2024-11-27T14:35:19.731Z"
   },
   {
    "duration": 9,
    "start_time": "2024-11-27T14:35:19.742Z"
   },
   {
    "duration": 9,
    "start_time": "2024-11-27T14:35:19.753Z"
   },
   {
    "duration": 10,
    "start_time": "2024-11-27T14:37:20.245Z"
   },
   {
    "duration": 10,
    "start_time": "2024-11-27T16:27:34.358Z"
   },
   {
    "duration": 10,
    "start_time": "2024-11-27T16:29:00.625Z"
   },
   {
    "duration": 7,
    "start_time": "2024-11-27T16:30:52.036Z"
   },
   {
    "duration": 674,
    "start_time": "2024-11-27T16:48:31.844Z"
   },
   {
    "duration": 27,
    "start_time": "2024-11-27T16:48:38.138Z"
   },
   {
    "duration": 13,
    "start_time": "2024-11-27T16:48:43.572Z"
   },
   {
    "duration": 7,
    "start_time": "2024-11-27T16:49:28.883Z"
   },
   {
    "duration": 14,
    "start_time": "2024-11-27T17:06:19.933Z"
   },
   {
    "duration": 13,
    "start_time": "2024-11-27T17:06:34.064Z"
   },
   {
    "duration": 13,
    "start_time": "2024-11-27T17:06:42.270Z"
   },
   {
    "duration": 16,
    "start_time": "2024-11-27T17:07:16.253Z"
   },
   {
    "duration": 21,
    "start_time": "2024-11-27T17:19:10.693Z"
   },
   {
    "duration": 2,
    "start_time": "2024-11-27T17:19:19.103Z"
   },
   {
    "duration": 4,
    "start_time": "2024-11-27T17:21:53.967Z"
   },
   {
    "duration": 3,
    "start_time": "2024-11-27T17:21:55.575Z"
   },
   {
    "duration": 3,
    "start_time": "2024-11-27T17:24:40.233Z"
   },
   {
    "duration": 4,
    "start_time": "2024-11-27T17:28:44.563Z"
   },
   {
    "duration": 67,
    "start_time": "2024-11-27T17:32:50.531Z"
   },
   {
    "duration": 4,
    "start_time": "2024-11-27T17:33:02.614Z"
   },
   {
    "duration": 34,
    "start_time": "2024-11-27T17:33:04.508Z"
   },
   {
    "duration": 3,
    "start_time": "2024-11-27T17:54:12.802Z"
   },
   {
    "duration": 34,
    "start_time": "2024-11-27T17:54:14.439Z"
   },
   {
    "duration": 3,
    "start_time": "2024-11-27T17:54:41.471Z"
   },
   {
    "duration": 16,
    "start_time": "2024-11-27T17:54:43.113Z"
   },
   {
    "duration": 4,
    "start_time": "2024-11-27T17:54:57.445Z"
   },
   {
    "duration": 16,
    "start_time": "2024-11-27T17:55:03.998Z"
   },
   {
    "duration": 4,
    "start_time": "2024-11-27T18:38:18.539Z"
   },
   {
    "duration": 16,
    "start_time": "2024-11-27T18:38:19.973Z"
   },
   {
    "duration": 21,
    "start_time": "2024-11-27T18:44:01.282Z"
   },
   {
    "duration": 14,
    "start_time": "2024-11-27T18:44:04.041Z"
   },
   {
    "duration": 15,
    "start_time": "2024-11-27T18:44:06.197Z"
   },
   {
    "duration": 4,
    "start_time": "2024-11-27T18:44:32.995Z"
   },
   {
    "duration": 20,
    "start_time": "2024-11-27T18:44:33.442Z"
   },
   {
    "duration": 16,
    "start_time": "2024-11-27T18:44:34.120Z"
   },
   {
    "duration": 18,
    "start_time": "2024-11-27T18:44:34.596Z"
   },
   {
    "duration": 3,
    "start_time": "2024-11-27T18:50:39.755Z"
   },
   {
    "duration": 15,
    "start_time": "2024-11-27T18:50:41.067Z"
   },
   {
    "duration": 14,
    "start_time": "2024-11-27T18:50:44.431Z"
   },
   {
    "duration": 14,
    "start_time": "2024-11-27T18:50:46.273Z"
   },
   {
    "duration": 10,
    "start_time": "2024-11-27T19:04:11.556Z"
   },
   {
    "duration": 8,
    "start_time": "2024-11-27T19:11:42.430Z"
   },
   {
    "duration": 9,
    "start_time": "2024-11-27T19:12:38.013Z"
   },
   {
    "duration": 25,
    "start_time": "2024-11-27T19:19:48.836Z"
   },
   {
    "duration": 786,
    "start_time": "2024-11-27T19:23:04.738Z"
   },
   {
    "duration": 215,
    "start_time": "2024-11-27T19:23:05.526Z"
   },
   {
    "duration": 13,
    "start_time": "2024-11-27T19:23:05.742Z"
   },
   {
    "duration": 12,
    "start_time": "2024-11-27T19:23:05.758Z"
   },
   {
    "duration": 9,
    "start_time": "2024-11-27T19:23:05.771Z"
   },
   {
    "duration": 45,
    "start_time": "2024-11-27T19:23:05.782Z"
   },
   {
    "duration": 11,
    "start_time": "2024-11-27T19:23:05.828Z"
   },
   {
    "duration": 9,
    "start_time": "2024-11-27T19:23:05.840Z"
   },
   {
    "duration": 9,
    "start_time": "2024-11-27T19:23:05.851Z"
   },
   {
    "duration": 24,
    "start_time": "2024-11-27T19:23:05.862Z"
   },
   {
    "duration": 41,
    "start_time": "2024-11-27T19:23:05.888Z"
   },
   {
    "duration": 10,
    "start_time": "2024-11-27T19:23:05.930Z"
   },
   {
    "duration": 9,
    "start_time": "2024-11-27T19:23:05.942Z"
   },
   {
    "duration": 25,
    "start_time": "2024-11-27T19:23:05.952Z"
   },
   {
    "duration": 4,
    "start_time": "2024-11-27T19:23:05.979Z"
   },
   {
    "duration": 44,
    "start_time": "2024-11-27T19:23:05.984Z"
   },
   {
    "duration": 93,
    "start_time": "2024-11-27T19:23:06.030Z"
   },
   {
    "duration": 17,
    "start_time": "2024-11-27T19:23:06.127Z"
   },
   {
    "duration": 3,
    "start_time": "2024-11-27T19:26:14.275Z"
   },
   {
    "duration": 4,
    "start_time": "2024-11-27T19:28:32.445Z"
   },
   {
    "duration": 228,
    "start_time": "2024-11-27T19:28:54.435Z"
   },
   {
    "duration": 4,
    "start_time": "2024-11-27T19:29:09.482Z"
   },
   {
    "duration": 21,
    "start_time": "2024-11-27T19:29:10.915Z"
   },
   {
    "duration": 18,
    "start_time": "2024-11-27T19:29:15.625Z"
   },
   {
    "duration": 17,
    "start_time": "2024-11-27T19:29:17.267Z"
   },
   {
    "duration": 30,
    "start_time": "2024-11-27T20:05:29.223Z"
   },
   {
    "duration": 4,
    "start_time": "2024-11-27T20:05:40.253Z"
   },
   {
    "duration": 6,
    "start_time": "2024-11-27T20:05:48.449Z"
   },
   {
    "duration": 8,
    "start_time": "2024-11-27T20:11:18.342Z"
   },
   {
    "duration": 10,
    "start_time": "2024-11-27T20:11:32.771Z"
   },
   {
    "duration": 20,
    "start_time": "2024-11-27T20:12:12.502Z"
   },
   {
    "duration": 35,
    "start_time": "2024-11-27T20:12:28.629Z"
   },
   {
    "duration": 12,
    "start_time": "2024-11-27T20:12:39.893Z"
   },
   {
    "duration": 11,
    "start_time": "2024-11-27T20:14:58.905Z"
   },
   {
    "duration": 12,
    "start_time": "2024-11-27T20:16:51.601Z"
   },
   {
    "duration": 14,
    "start_time": "2024-11-27T20:17:41.773Z"
   },
   {
    "duration": 16,
    "start_time": "2024-11-27T20:18:21.091Z"
   },
   {
    "duration": 10,
    "start_time": "2024-11-27T20:18:37.069Z"
   },
   {
    "duration": 6,
    "start_time": "2024-11-27T20:18:44.766Z"
   },
   {
    "duration": 16,
    "start_time": "2024-11-27T20:18:53.119Z"
   },
   {
    "duration": 81,
    "start_time": "2024-11-27T20:19:05.742Z"
   },
   {
    "duration": 29,
    "start_time": "2024-11-27T20:19:29.089Z"
   },
   {
    "duration": 475,
    "start_time": "2024-11-27T20:20:07.386Z"
   },
   {
    "duration": 11,
    "start_time": "2024-11-27T20:20:22.133Z"
   },
   {
    "duration": 12,
    "start_time": "2024-11-27T20:20:44.698Z"
   },
   {
    "duration": 9,
    "start_time": "2024-11-27T20:21:29.307Z"
   },
   {
    "duration": 7,
    "start_time": "2024-11-27T20:21:37.705Z"
   },
   {
    "duration": 3,
    "start_time": "2024-11-27T20:24:06.923Z"
   },
   {
    "duration": 15,
    "start_time": "2024-11-27T20:24:07.550Z"
   },
   {
    "duration": 20,
    "start_time": "2024-11-27T20:24:08.337Z"
   },
   {
    "duration": 15,
    "start_time": "2024-11-27T20:24:10.758Z"
   },
   {
    "duration": 4,
    "start_time": "2024-11-27T20:24:18.279Z"
   },
   {
    "duration": 3,
    "start_time": "2024-11-27T20:24:33.528Z"
   },
   {
    "duration": 15,
    "start_time": "2024-11-27T20:24:34.051Z"
   },
   {
    "duration": 14,
    "start_time": "2024-11-27T20:24:34.967Z"
   },
   {
    "duration": 21,
    "start_time": "2024-11-27T20:24:35.688Z"
   },
   {
    "duration": 5,
    "start_time": "2024-11-27T20:25:45.619Z"
   },
   {
    "duration": 18,
    "start_time": "2024-11-27T20:25:46.233Z"
   },
   {
    "duration": 3,
    "start_time": "2024-11-27T20:25:57.292Z"
   },
   {
    "duration": 121,
    "start_time": "2024-11-27T20:25:58.011Z"
   },
   {
    "duration": 3,
    "start_time": "2024-11-27T20:26:05.085Z"
   },
   {
    "duration": 39,
    "start_time": "2024-11-27T20:26:05.688Z"
   },
   {
    "duration": 5,
    "start_time": "2024-11-27T20:28:15.029Z"
   },
   {
    "duration": 28,
    "start_time": "2024-11-27T20:28:15.434Z"
   },
   {
    "duration": 3,
    "start_time": "2024-11-27T21:13:25.072Z"
   },
   {
    "duration": 15,
    "start_time": "2024-11-27T21:14:37.159Z"
   },
   {
    "duration": 4,
    "start_time": "2024-11-27T21:14:52.425Z"
   },
   {
    "duration": 71,
    "start_time": "2024-11-27T21:14:52.960Z"
   },
   {
    "duration": 3,
    "start_time": "2024-11-27T21:35:53.181Z"
   },
   {
    "duration": 3,
    "start_time": "2024-11-27T21:36:01.898Z"
   },
   {
    "duration": 18,
    "start_time": "2024-11-27T21:36:43.768Z"
   },
   {
    "duration": 4,
    "start_time": "2024-11-27T21:37:01.186Z"
   },
   {
    "duration": 18,
    "start_time": "2024-11-27T21:37:02.200Z"
   },
   {
    "duration": 19,
    "start_time": "2024-11-27T21:37:02.610Z"
   },
   {
    "duration": 25,
    "start_time": "2024-11-27T21:37:03.633Z"
   },
   {
    "duration": 3,
    "start_time": "2024-11-27T21:37:04.460Z"
   },
   {
    "duration": 21,
    "start_time": "2024-11-27T21:37:05.168Z"
   },
   {
    "duration": 3,
    "start_time": "2024-11-27T21:37:30.872Z"
   },
   {
    "duration": 20,
    "start_time": "2024-11-27T21:37:31.692Z"
   },
   {
    "duration": 3,
    "start_time": "2024-11-27T21:38:04.050Z"
   },
   {
    "duration": 6,
    "start_time": "2024-11-27T21:38:05.893Z"
   },
   {
    "duration": 3,
    "start_time": "2024-11-27T21:38:17.385Z"
   },
   {
    "duration": 6,
    "start_time": "2024-11-27T21:38:20.434Z"
   },
   {
    "duration": 6,
    "start_time": "2024-11-27T21:40:24.750Z"
   },
   {
    "duration": 5,
    "start_time": "2024-11-27T21:40:25.633Z"
   },
   {
    "duration": 7,
    "start_time": "2024-11-27T21:40:31.536Z"
   },
   {
    "duration": 2,
    "start_time": "2024-11-27T21:41:50.869Z"
   },
   {
    "duration": 7,
    "start_time": "2024-11-27T21:41:51.073Z"
   },
   {
    "duration": 3,
    "start_time": "2024-11-27T21:50:51.448Z"
   },
   {
    "duration": 21,
    "start_time": "2024-11-27T21:50:53.097Z"
   },
   {
    "duration": 3,
    "start_time": "2024-11-27T21:50:58.216Z"
   },
   {
    "duration": 6,
    "start_time": "2024-11-27T21:50:59.648Z"
   },
   {
    "duration": 3,
    "start_time": "2024-11-27T21:55:10.624Z"
   },
   {
    "duration": 6,
    "start_time": "2024-11-27T21:55:13.080Z"
   },
   {
    "duration": 5,
    "start_time": "2024-11-27T21:55:14.723Z"
   },
   {
    "duration": 6,
    "start_time": "2024-11-27T21:55:15.537Z"
   },
   {
    "duration": 5,
    "start_time": "2024-11-27T21:59:43.829Z"
   },
   {
    "duration": 5,
    "start_time": "2024-11-27T21:59:44.341Z"
   },
   {
    "duration": 2,
    "start_time": "2024-11-27T22:00:11.478Z"
   },
   {
    "duration": 21,
    "start_time": "2024-11-27T22:00:11.886Z"
   },
   {
    "duration": 3,
    "start_time": "2024-11-27T22:00:23.563Z"
   },
   {
    "duration": 6,
    "start_time": "2024-11-27T22:00:25.406Z"
   },
   {
    "duration": 3,
    "start_time": "2024-11-27T22:00:35.849Z"
   },
   {
    "duration": 3,
    "start_time": "2024-11-27T22:03:19.487Z"
   },
   {
    "duration": 5,
    "start_time": "2024-11-27T22:03:19.894Z"
   },
   {
    "duration": 3,
    "start_time": "2024-11-27T22:03:44.676Z"
   },
   {
    "duration": 5,
    "start_time": "2024-11-27T22:03:45.298Z"
   },
   {
    "duration": 2,
    "start_time": "2024-11-27T22:03:50.616Z"
   },
   {
    "duration": 6,
    "start_time": "2024-11-27T22:03:51.076Z"
   },
   {
    "duration": 3,
    "start_time": "2024-11-27T22:04:02.914Z"
   },
   {
    "duration": 7,
    "start_time": "2024-11-27T22:04:03.881Z"
   },
   {
    "duration": 6,
    "start_time": "2024-11-27T22:04:08.638Z"
   },
   {
    "duration": 5,
    "start_time": "2024-11-27T22:04:10.892Z"
   },
   {
    "duration": 3,
    "start_time": "2024-11-27T22:04:51.442Z"
   },
   {
    "duration": 6,
    "start_time": "2024-11-27T22:04:53.081Z"
   },
   {
    "duration": 6,
    "start_time": "2024-11-27T22:04:58.611Z"
   },
   {
    "duration": 6,
    "start_time": "2024-11-27T22:04:59.634Z"
   },
   {
    "duration": 2,
    "start_time": "2024-11-27T22:31:07.811Z"
   },
   {
    "duration": 8,
    "start_time": "2024-11-27T22:31:08.628Z"
   },
   {
    "duration": 6,
    "start_time": "2024-11-27T22:32:02.901Z"
   },
   {
    "duration": 8,
    "start_time": "2024-11-27T22:32:06.102Z"
   },
   {
    "duration": 737,
    "start_time": "2024-11-27T22:33:22.679Z"
   },
   {
    "duration": 222,
    "start_time": "2024-11-27T22:33:23.418Z"
   },
   {
    "duration": 13,
    "start_time": "2024-11-27T22:33:23.642Z"
   },
   {
    "duration": 12,
    "start_time": "2024-11-27T22:33:23.657Z"
   },
   {
    "duration": 9,
    "start_time": "2024-11-27T22:33:23.671Z"
   },
   {
    "duration": 46,
    "start_time": "2024-11-27T22:33:23.682Z"
   },
   {
    "duration": 9,
    "start_time": "2024-11-27T22:33:23.730Z"
   },
   {
    "duration": 11,
    "start_time": "2024-11-27T22:33:23.741Z"
   },
   {
    "duration": 9,
    "start_time": "2024-11-27T22:33:23.754Z"
   },
   {
    "duration": 9,
    "start_time": "2024-11-27T22:33:23.765Z"
   },
   {
    "duration": 57,
    "start_time": "2024-11-27T22:33:23.776Z"
   },
   {
    "duration": 9,
    "start_time": "2024-11-27T22:33:23.834Z"
   },
   {
    "duration": 10,
    "start_time": "2024-11-27T22:33:23.845Z"
   },
   {
    "duration": 10,
    "start_time": "2024-11-27T22:33:23.857Z"
   },
   {
    "duration": 10,
    "start_time": "2024-11-27T22:33:23.869Z"
   },
   {
    "duration": 54,
    "start_time": "2024-11-27T22:33:23.881Z"
   },
   {
    "duration": 10,
    "start_time": "2024-11-27T22:33:23.936Z"
   },
   {
    "duration": 4,
    "start_time": "2024-11-27T22:33:23.947Z"
   },
   {
    "duration": 21,
    "start_time": "2024-11-27T22:33:23.953Z"
   },
   {
    "duration": 63,
    "start_time": "2024-11-27T22:33:23.975Z"
   },
   {
    "duration": 92,
    "start_time": "2024-11-27T22:33:24.040Z"
   },
   {
    "duration": 4,
    "start_time": "2024-11-27T22:33:24.137Z"
   },
   {
    "duration": 80,
    "start_time": "2024-11-27T22:33:24.146Z"
   },
   {
    "duration": 5,
    "start_time": "2024-11-27T22:33:24.230Z"
   },
   {
    "duration": 5,
    "start_time": "2024-11-27T22:33:24.237Z"
   },
   {
    "duration": 3,
    "start_time": "2024-11-27T22:33:47.245Z"
   },
   {
    "duration": 6,
    "start_time": "2024-11-27T22:33:47.757Z"
   },
   {
    "duration": 5,
    "start_time": "2024-11-27T22:33:49.257Z"
   },
   {
    "duration": 5,
    "start_time": "2024-11-27T22:33:50.036Z"
   },
   {
    "duration": 3,
    "start_time": "2024-11-27T22:34:03.322Z"
   },
   {
    "duration": 6,
    "start_time": "2024-11-27T22:34:03.937Z"
   },
   {
    "duration": 6,
    "start_time": "2024-11-27T22:34:04.757Z"
   },
   {
    "duration": 5,
    "start_time": "2024-11-27T22:34:05.986Z"
   },
   {
    "duration": 4,
    "start_time": "2024-11-27T22:34:14.213Z"
   },
   {
    "duration": 6,
    "start_time": "2024-11-27T22:34:14.796Z"
   },
   {
    "duration": 5,
    "start_time": "2024-11-27T22:34:15.611Z"
   },
   {
    "duration": 5,
    "start_time": "2024-11-27T22:34:16.839Z"
   },
   {
    "duration": 4,
    "start_time": "2024-11-27T22:34:25.850Z"
   },
   {
    "duration": 6,
    "start_time": "2024-11-27T22:34:26.261Z"
   },
   {
    "duration": 5,
    "start_time": "2024-11-27T22:34:27.059Z"
   },
   {
    "duration": 8,
    "start_time": "2024-11-27T22:34:27.901Z"
   },
   {
    "duration": 3,
    "start_time": "2024-11-27T22:34:35.476Z"
   },
   {
    "duration": 5,
    "start_time": "2024-11-27T22:34:35.886Z"
   },
   {
    "duration": 6,
    "start_time": "2024-11-27T22:34:36.705Z"
   },
   {
    "duration": 6,
    "start_time": "2024-11-27T22:34:37.360Z"
   },
   {
    "duration": 741,
    "start_time": "2024-11-28T16:03:59.481Z"
   },
   {
    "duration": 296,
    "start_time": "2024-11-28T16:04:00.224Z"
   },
   {
    "duration": 12,
    "start_time": "2024-11-28T16:04:00.522Z"
   },
   {
    "duration": 13,
    "start_time": "2024-11-28T16:04:00.536Z"
   },
   {
    "duration": 10,
    "start_time": "2024-11-28T16:04:00.550Z"
   },
   {
    "duration": 47,
    "start_time": "2024-11-28T16:04:00.562Z"
   },
   {
    "duration": 10,
    "start_time": "2024-11-28T16:04:00.611Z"
   },
   {
    "duration": 10,
    "start_time": "2024-11-28T16:04:00.622Z"
   },
   {
    "duration": 9,
    "start_time": "2024-11-28T16:04:00.633Z"
   },
   {
    "duration": 9,
    "start_time": "2024-11-28T16:04:00.644Z"
   },
   {
    "duration": 53,
    "start_time": "2024-11-28T16:04:00.655Z"
   },
   {
    "duration": 10,
    "start_time": "2024-11-28T16:04:00.710Z"
   },
   {
    "duration": 10,
    "start_time": "2024-11-28T16:04:00.722Z"
   },
   {
    "duration": 8,
    "start_time": "2024-11-28T16:04:00.733Z"
   },
   {
    "duration": 8,
    "start_time": "2024-11-28T16:04:00.744Z"
   },
   {
    "duration": 55,
    "start_time": "2024-11-28T16:04:00.755Z"
   },
   {
    "duration": 10,
    "start_time": "2024-11-28T16:04:00.811Z"
   },
   {
    "duration": 3,
    "start_time": "2024-11-28T16:04:00.823Z"
   },
   {
    "duration": 23,
    "start_time": "2024-11-28T16:04:00.827Z"
   },
   {
    "duration": 71,
    "start_time": "2024-11-28T16:04:00.851Z"
   },
   {
    "duration": 89,
    "start_time": "2024-11-28T16:04:00.924Z"
   },
   {
    "duration": 4,
    "start_time": "2024-11-28T16:04:01.015Z"
   },
   {
    "duration": 86,
    "start_time": "2024-11-28T16:04:01.023Z"
   },
   {
    "duration": 5,
    "start_time": "2024-11-28T16:04:01.113Z"
   },
   {
    "duration": 5,
    "start_time": "2024-11-28T16:04:01.119Z"
   },
   {
    "duration": 5,
    "start_time": "2024-11-28T16:47:45.187Z"
   },
   {
    "duration": 6,
    "start_time": "2024-11-28T16:47:52.912Z"
   },
   {
    "duration": 6,
    "start_time": "2024-11-28T17:34:23.608Z"
   },
   {
    "duration": 6,
    "start_time": "2024-11-28T17:34:29.957Z"
   },
   {
    "duration": 230,
    "start_time": "2024-11-28T17:55:00.307Z"
   },
   {
    "duration": 3,
    "start_time": "2024-11-28T17:55:04.587Z"
   },
   {
    "duration": 6,
    "start_time": "2024-11-28T17:55:06.248Z"
   },
   {
    "duration": 6,
    "start_time": "2024-11-28T17:55:08.317Z"
   },
   {
    "duration": 6,
    "start_time": "2024-11-28T17:55:09.728Z"
   },
   {
    "duration": 3,
    "start_time": "2024-11-28T19:19:44.425Z"
   },
   {
    "duration": 3,
    "start_time": "2024-11-28T19:39:57.481Z"
   },
   {
    "duration": 33,
    "start_time": "2024-11-28T19:40:23.275Z"
   },
   {
    "duration": 4,
    "start_time": "2024-11-28T19:40:46.213Z"
   },
   {
    "duration": 159,
    "start_time": "2024-11-28T19:40:47.045Z"
   },
   {
    "duration": 3,
    "start_time": "2024-11-28T19:41:17.138Z"
   },
   {
    "duration": 2152,
    "start_time": "2024-11-28T19:41:17.551Z"
   },
   {
    "duration": 4,
    "start_time": "2024-11-28T19:44:23.147Z"
   },
   {
    "duration": 1188,
    "start_time": "2024-11-28T19:44:24.543Z"
   },
   {
    "duration": 4,
    "start_time": "2024-11-28T19:44:42.148Z"
   },
   {
    "duration": 1724,
    "start_time": "2024-11-28T19:44:45.831Z"
   },
   {
    "duration": 3,
    "start_time": "2024-11-28T19:45:36.020Z"
   },
   {
    "duration": 1226,
    "start_time": "2024-11-28T19:45:37.860Z"
   },
   {
    "duration": 3,
    "start_time": "2024-11-28T19:49:45.885Z"
   },
   {
    "duration": 4,
    "start_time": "2024-11-28T19:50:13.310Z"
   },
   {
    "duration": 3,
    "start_time": "2024-11-28T19:50:26.051Z"
   },
   {
    "duration": 1251,
    "start_time": "2024-11-28T19:50:29.120Z"
   },
   {
    "duration": 3,
    "start_time": "2024-11-28T19:52:27.869Z"
   },
   {
    "duration": 247,
    "start_time": "2024-11-28T19:52:28.685Z"
   },
   {
    "duration": 8,
    "start_time": "2024-11-28T19:54:34.024Z"
   },
   {
    "duration": 237,
    "start_time": "2024-11-28T19:54:35.662Z"
   },
   {
    "duration": 4,
    "start_time": "2024-11-28T19:58:21.265Z"
   },
   {
    "duration": 555,
    "start_time": "2024-11-28T19:58:23.202Z"
   },
   {
    "duration": 4,
    "start_time": "2024-11-28T19:58:33.233Z"
   },
   {
    "duration": 229,
    "start_time": "2024-11-28T19:58:34.673Z"
   },
   {
    "duration": 4,
    "start_time": "2024-11-28T19:59:08.818Z"
   },
   {
    "duration": 221,
    "start_time": "2024-11-28T19:59:09.483Z"
   },
   {
    "duration": 4,
    "start_time": "2024-11-28T20:01:08.475Z"
   },
   {
    "duration": 369,
    "start_time": "2024-11-28T20:01:09.293Z"
   },
   {
    "duration": 4,
    "start_time": "2024-11-28T20:01:36.839Z"
   },
   {
    "duration": 304,
    "start_time": "2024-11-28T20:01:37.362Z"
   },
   {
    "duration": 5,
    "start_time": "2024-11-28T20:02:07.868Z"
   },
   {
    "duration": 332,
    "start_time": "2024-11-28T20:02:10.119Z"
   },
   {
    "duration": 4,
    "start_time": "2024-11-28T20:02:34.696Z"
   },
   {
    "duration": 344,
    "start_time": "2024-11-28T20:02:35.106Z"
   },
   {
    "duration": 4,
    "start_time": "2024-11-28T20:04:51.989Z"
   },
   {
    "duration": 276,
    "start_time": "2024-11-28T20:04:52.585Z"
   },
   {
    "duration": 4,
    "start_time": "2024-11-28T20:05:06.045Z"
   },
   {
    "duration": 327,
    "start_time": "2024-11-28T20:05:06.761Z"
   },
   {
    "duration": 4,
    "start_time": "2024-11-28T20:05:16.492Z"
   },
   {
    "duration": 332,
    "start_time": "2024-11-28T20:05:17.923Z"
   },
   {
    "duration": 4,
    "start_time": "2024-11-28T20:08:08.584Z"
   },
   {
    "duration": 377,
    "start_time": "2024-11-28T20:08:09.343Z"
   },
   {
    "duration": 5,
    "start_time": "2024-11-28T20:08:56.498Z"
   },
   {
    "duration": 416,
    "start_time": "2024-11-28T20:08:57.080Z"
   },
   {
    "duration": 5,
    "start_time": "2024-11-28T20:09:21.212Z"
   },
   {
    "duration": 327,
    "start_time": "2024-11-28T20:09:22.266Z"
   },
   {
    "duration": 7,
    "start_time": "2024-11-28T20:09:44.785Z"
   },
   {
    "duration": 384,
    "start_time": "2024-11-28T20:09:45.395Z"
   },
   {
    "duration": 5,
    "start_time": "2024-11-28T20:09:58.767Z"
   },
   {
    "duration": 362,
    "start_time": "2024-11-28T20:09:59.527Z"
   },
   {
    "duration": 5,
    "start_time": "2024-11-28T20:10:43.569Z"
   },
   {
    "duration": 697,
    "start_time": "2024-11-28T20:10:44.176Z"
   },
   {
    "duration": 5,
    "start_time": "2024-11-28T20:10:51.750Z"
   },
   {
    "duration": 463,
    "start_time": "2024-11-28T20:10:53.389Z"
   },
   {
    "duration": 4,
    "start_time": "2024-11-28T20:13:18.031Z"
   },
   {
    "duration": 369,
    "start_time": "2024-11-28T20:13:19.014Z"
   },
   {
    "duration": 4,
    "start_time": "2024-11-28T20:13:35.392Z"
   },
   {
    "duration": 344,
    "start_time": "2024-11-28T20:13:36.005Z"
   },
   {
    "duration": 6,
    "start_time": "2024-11-28T20:15:20.773Z"
   },
   {
    "duration": 6,
    "start_time": "2024-11-28T20:15:22.363Z"
   },
   {
    "duration": 6,
    "start_time": "2024-11-28T20:15:23.526Z"
   },
   {
    "duration": 311,
    "start_time": "2024-11-28T20:15:33.168Z"
   },
   {
    "duration": 347,
    "start_time": "2024-11-28T20:16:56.979Z"
   },
   {
    "duration": 340,
    "start_time": "2024-11-28T20:17:00.194Z"
   },
   {
    "duration": 5,
    "start_time": "2024-11-28T20:54:10.391Z"
   },
   {
    "duration": 336,
    "start_time": "2024-11-28T20:54:11.224Z"
   },
   {
    "duration": 313,
    "start_time": "2024-11-28T20:54:21.868Z"
   },
   {
    "duration": 306,
    "start_time": "2024-11-28T20:54:22.470Z"
   },
   {
    "duration": 4,
    "start_time": "2024-11-28T20:54:46.740Z"
   },
   {
    "duration": 307,
    "start_time": "2024-11-28T20:54:47.867Z"
   },
   {
    "duration": 5,
    "start_time": "2024-11-28T20:54:56.263Z"
   },
   {
    "duration": 5,
    "start_time": "2024-11-28T20:55:18.790Z"
   },
   {
    "duration": 356,
    "start_time": "2024-11-28T20:55:19.303Z"
   },
   {
    "duration": 6,
    "start_time": "2024-11-28T20:58:33.969Z"
   },
   {
    "duration": 4,
    "start_time": "2024-11-28T20:58:50.146Z"
   },
   {
    "duration": 550,
    "start_time": "2024-11-28T20:58:51.784Z"
   },
   {
    "duration": 4,
    "start_time": "2024-11-28T20:58:58.429Z"
   },
   {
    "duration": 434,
    "start_time": "2024-11-28T20:59:01.821Z"
   },
   {
    "duration": 5,
    "start_time": "2024-11-28T20:59:40.064Z"
   },
   {
    "duration": 457,
    "start_time": "2024-11-28T20:59:42.461Z"
   },
   {
    "duration": 409,
    "start_time": "2024-11-28T20:59:56.502Z"
   },
   {
    "duration": 4,
    "start_time": "2024-11-28T21:00:10.619Z"
   },
   {
    "duration": 409,
    "start_time": "2024-11-28T21:00:12.616Z"
   },
   {
    "duration": 416,
    "start_time": "2024-11-28T21:00:19.195Z"
   },
   {
    "duration": 451,
    "start_time": "2024-11-28T21:00:20.301Z"
   },
   {
    "duration": 7,
    "start_time": "2024-11-28T21:04:27.968Z"
   },
   {
    "duration": 511,
    "start_time": "2024-11-28T21:04:31.450Z"
   },
   {
    "duration": 5,
    "start_time": "2024-11-28T21:04:38.209Z"
   },
   {
    "duration": 453,
    "start_time": "2024-11-28T21:04:38.925Z"
   },
   {
    "duration": 6,
    "start_time": "2024-11-28T21:07:39.868Z"
   },
   {
    "duration": 361,
    "start_time": "2024-11-28T21:07:40.697Z"
   },
   {
    "duration": 7,
    "start_time": "2024-11-28T21:08:35.574Z"
   },
   {
    "duration": 527,
    "start_time": "2024-11-28T21:08:36.393Z"
   },
   {
    "duration": 494,
    "start_time": "2024-11-28T21:08:43.974Z"
   },
   {
    "duration": 521,
    "start_time": "2024-11-28T21:08:47.102Z"
   },
   {
    "duration": 5,
    "start_time": "2024-11-28T21:25:08.620Z"
   },
   {
    "duration": 5,
    "start_time": "2024-11-28T21:25:23.407Z"
   },
   {
    "duration": 480,
    "start_time": "2024-11-28T21:25:24.431Z"
   },
   {
    "duration": 5,
    "start_time": "2024-11-28T21:25:43.477Z"
   },
   {
    "duration": 471,
    "start_time": "2024-11-28T21:25:44.502Z"
   },
   {
    "duration": 489,
    "start_time": "2024-11-28T21:25:54.128Z"
   },
   {
    "duration": 8,
    "start_time": "2024-11-28T21:28:35.105Z"
   },
   {
    "duration": 476,
    "start_time": "2024-11-28T21:28:38.789Z"
   },
   {
    "duration": 5,
    "start_time": "2024-11-28T21:29:58.457Z"
   },
   {
    "duration": 494,
    "start_time": "2024-11-28T21:29:59.278Z"
   },
   {
    "duration": 4,
    "start_time": "2024-11-28T21:30:33.478Z"
   },
   {
    "duration": 474,
    "start_time": "2024-11-28T21:30:34.808Z"
   },
   {
    "duration": 5,
    "start_time": "2024-11-28T21:30:53.761Z"
   },
   {
    "duration": 608,
    "start_time": "2024-11-28T21:30:54.367Z"
   },
   {
    "duration": 4,
    "start_time": "2024-11-28T21:32:39.022Z"
   },
   {
    "duration": 481,
    "start_time": "2024-11-28T21:32:39.841Z"
   },
   {
    "duration": 559,
    "start_time": "2024-11-28T21:32:42.503Z"
   },
   {
    "duration": 509,
    "start_time": "2024-11-28T21:32:43.321Z"
   },
   {
    "duration": 5,
    "start_time": "2024-11-28T21:37:20.933Z"
   },
   {
    "duration": 509,
    "start_time": "2024-11-28T21:37:24.526Z"
   },
   {
    "duration": 502,
    "start_time": "2024-11-28T21:37:27.181Z"
   },
   {
    "duration": 493,
    "start_time": "2024-11-28T21:37:32.676Z"
   },
   {
    "duration": 5,
    "start_time": "2024-11-28T21:37:55.474Z"
   },
   {
    "duration": 478,
    "start_time": "2024-11-28T21:37:56.894Z"
   },
   {
    "duration": 557,
    "start_time": "2024-11-28T21:37:57.402Z"
   },
   {
    "duration": 501,
    "start_time": "2024-11-28T21:37:57.961Z"
   },
   {
    "duration": 3,
    "start_time": "2024-11-28T23:46:38.983Z"
   },
   {
    "duration": 6,
    "start_time": "2024-11-28T23:46:40.297Z"
   },
   {
    "duration": 3,
    "start_time": "2024-11-29T00:02:59.280Z"
   },
   {
    "duration": 18,
    "start_time": "2024-11-29T00:03:01.384Z"
   },
   {
    "duration": 9,
    "start_time": "2024-11-29T00:05:09.518Z"
   },
   {
    "duration": 5,
    "start_time": "2024-11-29T00:06:43.740Z"
   },
   {
    "duration": 25,
    "start_time": "2024-11-29T00:06:46.917Z"
   },
   {
    "duration": 5,
    "start_time": "2024-11-29T00:07:07.047Z"
   },
   {
    "duration": 562,
    "start_time": "2024-11-29T00:07:09.997Z"
   },
   {
    "duration": 4,
    "start_time": "2024-11-29T00:07:38.099Z"
   },
   {
    "duration": 9,
    "start_time": "2024-11-29T00:07:41.556Z"
   },
   {
    "duration": 7,
    "start_time": "2024-11-29T00:07:45.534Z"
   },
   {
    "duration": 473,
    "start_time": "2024-11-29T00:07:48.509Z"
   },
   {
    "duration": 6,
    "start_time": "2024-11-29T00:08:20.746Z"
   },
   {
    "duration": 490,
    "start_time": "2024-11-29T00:08:22.769Z"
   },
   {
    "duration": 155,
    "start_time": "2024-12-02T14:37:32.626Z"
   },
   {
    "duration": 2518,
    "start_time": "2024-12-02T14:37:46.011Z"
   },
   {
    "duration": 295,
    "start_time": "2024-12-02T14:37:48.531Z"
   },
   {
    "duration": 12,
    "start_time": "2024-12-02T14:37:48.828Z"
   },
   {
    "duration": 12,
    "start_time": "2024-12-02T14:37:48.841Z"
   },
   {
    "duration": 10,
    "start_time": "2024-12-02T14:37:48.855Z"
   },
   {
    "duration": 25,
    "start_time": "2024-12-02T14:37:48.866Z"
   },
   {
    "duration": 6,
    "start_time": "2024-12-02T14:37:48.892Z"
   },
   {
    "duration": 32,
    "start_time": "2024-12-02T14:37:48.900Z"
   },
   {
    "duration": 9,
    "start_time": "2024-12-02T14:37:48.934Z"
   },
   {
    "duration": 9,
    "start_time": "2024-12-02T14:37:48.945Z"
   },
   {
    "duration": 23,
    "start_time": "2024-12-02T14:37:48.956Z"
   },
   {
    "duration": 5,
    "start_time": "2024-12-02T14:37:48.981Z"
   },
   {
    "duration": 38,
    "start_time": "2024-12-02T14:37:48.987Z"
   },
   {
    "duration": 10,
    "start_time": "2024-12-02T14:37:49.029Z"
   },
   {
    "duration": 9,
    "start_time": "2024-12-02T14:37:49.040Z"
   },
   {
    "duration": 10,
    "start_time": "2024-12-02T14:37:49.051Z"
   },
   {
    "duration": 25,
    "start_time": "2024-12-02T14:37:49.062Z"
   },
   {
    "duration": 38,
    "start_time": "2024-12-02T14:37:49.089Z"
   },
   {
    "duration": 7,
    "start_time": "2024-12-02T14:37:49.128Z"
   },
   {
    "duration": 5,
    "start_time": "2024-12-02T14:37:49.136Z"
   },
   {
    "duration": 15,
    "start_time": "2024-12-02T14:37:49.142Z"
   },
   {
    "duration": 69,
    "start_time": "2024-12-02T14:37:49.159Z"
   },
   {
    "duration": 17,
    "start_time": "2024-12-02T14:37:49.230Z"
   },
   {
    "duration": 3,
    "start_time": "2024-12-02T14:37:49.325Z"
   },
   {
    "duration": 10,
    "start_time": "2024-12-02T14:37:49.332Z"
   },
   {
    "duration": 5,
    "start_time": "2024-12-02T14:37:49.345Z"
   },
   {
    "duration": 5,
    "start_time": "2024-12-02T14:37:49.424Z"
   },
   {
    "duration": 5,
    "start_time": "2024-12-02T14:37:49.432Z"
   },
   {
    "duration": 502,
    "start_time": "2024-12-02T14:37:49.439Z"
   },
   {
    "duration": 286,
    "start_time": "2024-12-02T14:37:49.943Z"
   },
   {
    "duration": 0,
    "start_time": "2024-12-02T14:37:50.231Z"
   },
   {
    "duration": 7,
    "start_time": "2024-12-02T14:38:01.602Z"
   },
   {
    "duration": 3,
    "start_time": "2024-12-02T15:05:04.358Z"
   },
   {
    "duration": 22,
    "start_time": "2024-12-02T15:05:05.508Z"
   },
   {
    "duration": 2,
    "start_time": "2024-12-02T15:05:14.806Z"
   },
   {
    "duration": 21,
    "start_time": "2024-12-02T15:05:19.106Z"
   },
   {
    "duration": 2,
    "start_time": "2024-12-02T15:05:32.916Z"
   },
   {
    "duration": 3,
    "start_time": "2024-12-02T15:05:34.059Z"
   },
   {
    "duration": 23,
    "start_time": "2024-12-02T15:05:35.287Z"
   },
   {
    "duration": 2,
    "start_time": "2024-12-02T15:05:45.936Z"
   },
   {
    "duration": 23,
    "start_time": "2024-12-02T15:05:48.393Z"
   },
   {
    "duration": 3,
    "start_time": "2024-12-02T15:06:13.922Z"
   },
   {
    "duration": 6,
    "start_time": "2024-12-02T15:06:15.129Z"
   },
   {
    "duration": 6,
    "start_time": "2024-12-02T15:06:34.083Z"
   },
   {
    "duration": 6,
    "start_time": "2024-12-02T15:06:35.907Z"
   },
   {
    "duration": 4,
    "start_time": "2024-12-02T15:11:27.700Z"
   },
   {
    "duration": 557,
    "start_time": "2024-12-02T15:11:29.184Z"
   },
   {
    "duration": 3,
    "start_time": "2024-12-02T15:11:41.676Z"
   },
   {
    "duration": 5,
    "start_time": "2024-12-02T15:11:45.352Z"
   },
   {
    "duration": 5,
    "start_time": "2024-12-02T15:11:46.184Z"
   },
   {
    "duration": 6,
    "start_time": "2024-12-02T15:11:47.822Z"
   },
   {
    "duration": 5,
    "start_time": "2024-12-02T15:11:48.845Z"
   },
   {
    "duration": 489,
    "start_time": "2024-12-02T15:11:50.279Z"
   },
   {
    "duration": 22,
    "start_time": "2024-12-02T15:13:44.161Z"
   },
   {
    "duration": 12,
    "start_time": "2024-12-02T15:14:11.594Z"
   },
   {
    "duration": 19,
    "start_time": "2024-12-02T15:14:33.516Z"
   },
   {
    "duration": 500,
    "start_time": "2024-12-02T15:14:53.265Z"
   },
   {
    "duration": 2,
    "start_time": "2024-12-02T15:18:34.969Z"
   },
   {
    "duration": 17,
    "start_time": "2024-12-02T15:18:35.841Z"
   },
   {
    "duration": 15,
    "start_time": "2024-12-02T15:20:17.073Z"
   },
   {
    "duration": 2,
    "start_time": "2024-12-02T15:21:10.312Z"
   },
   {
    "duration": 6,
    "start_time": "2024-12-02T15:21:11.952Z"
   },
   {
    "duration": 6,
    "start_time": "2024-12-02T15:22:17.076Z"
   },
   {
    "duration": 16,
    "start_time": "2024-12-02T15:23:09.710Z"
   },
   {
    "duration": 5,
    "start_time": "2024-12-02T15:23:19.133Z"
   },
   {
    "duration": 6,
    "start_time": "2024-12-02T15:23:23.439Z"
   },
   {
    "duration": 7,
    "start_time": "2024-12-02T15:29:15.722Z"
   },
   {
    "duration": 4,
    "start_time": "2024-12-02T15:32:42.338Z"
   },
   {
    "duration": 454,
    "start_time": "2024-12-02T15:32:43.828Z"
   },
   {
    "duration": 5,
    "start_time": "2024-12-02T15:33:04.919Z"
   },
   {
    "duration": 572,
    "start_time": "2024-12-02T15:33:06.602Z"
   },
   {
    "duration": 4,
    "start_time": "2024-12-02T15:33:42.756Z"
   },
   {
    "duration": 459,
    "start_time": "2024-12-02T15:33:44.812Z"
   },
   {
    "duration": 497,
    "start_time": "2024-12-02T15:33:50.133Z"
   },
   {
    "duration": 442,
    "start_time": "2024-12-02T15:33:54.644Z"
   },
   {
    "duration": 75,
    "start_time": "2024-12-02T15:36:11.238Z"
   },
   {
    "duration": 493,
    "start_time": "2024-12-02T15:36:13.285Z"
   },
   {
    "duration": 4,
    "start_time": "2024-12-02T15:37:06.125Z"
   },
   {
    "duration": 518,
    "start_time": "2024-12-02T15:37:07.762Z"
   },
   {
    "duration": 4,
    "start_time": "2024-12-02T15:37:26.251Z"
   },
   {
    "duration": 516,
    "start_time": "2024-12-02T15:37:27.888Z"
   },
   {
    "duration": 455,
    "start_time": "2024-12-02T15:37:36.230Z"
   },
   {
    "duration": 7,
    "start_time": "2024-12-02T15:37:55.233Z"
   },
   {
    "duration": 479,
    "start_time": "2024-12-02T15:37:56.765Z"
   },
   {
    "duration": 5,
    "start_time": "2024-12-02T15:38:10.236Z"
   },
   {
    "duration": 497,
    "start_time": "2024-12-02T15:38:12.376Z"
   },
   {
    "duration": 476,
    "start_time": "2024-12-02T15:38:20.512Z"
   },
   {
    "duration": 4,
    "start_time": "2024-12-02T15:45:08.640Z"
   },
   {
    "duration": 489,
    "start_time": "2024-12-02T15:45:10.071Z"
   },
   {
    "duration": 7,
    "start_time": "2024-12-02T16:41:41.972Z"
   },
   {
    "duration": 3,
    "start_time": "2024-12-02T16:41:54.055Z"
   },
   {
    "duration": 325,
    "start_time": "2024-12-02T16:41:55.991Z"
   },
   {
    "duration": 3,
    "start_time": "2024-12-02T16:43:21.470Z"
   },
   {
    "duration": 3,
    "start_time": "2024-12-02T16:43:42.013Z"
   },
   {
    "duration": 3,
    "start_time": "2024-12-02T16:44:41.901Z"
   },
   {
    "duration": 3,
    "start_time": "2024-12-02T16:52:36.968Z"
   },
   {
    "duration": 871,
    "start_time": "2024-12-02T16:52:48.965Z"
   },
   {
    "duration": 215,
    "start_time": "2024-12-02T16:52:49.839Z"
   },
   {
    "duration": 12,
    "start_time": "2024-12-02T16:52:50.056Z"
   },
   {
    "duration": 11,
    "start_time": "2024-12-02T16:52:50.072Z"
   },
   {
    "duration": 9,
    "start_time": "2024-12-02T16:52:50.085Z"
   },
   {
    "duration": 41,
    "start_time": "2024-12-02T16:52:50.097Z"
   },
   {
    "duration": 6,
    "start_time": "2024-12-02T16:52:50.139Z"
   },
   {
    "duration": 6,
    "start_time": "2024-12-02T16:52:50.146Z"
   },
   {
    "duration": 11,
    "start_time": "2024-12-02T16:52:50.153Z"
   },
   {
    "duration": 10,
    "start_time": "2024-12-02T16:52:50.167Z"
   },
   {
    "duration": 8,
    "start_time": "2024-12-02T16:52:50.179Z"
   },
   {
    "duration": 57,
    "start_time": "2024-12-02T16:52:50.189Z"
   },
   {
    "duration": 6,
    "start_time": "2024-12-02T16:52:50.248Z"
   },
   {
    "duration": 6,
    "start_time": "2024-12-02T16:52:50.255Z"
   },
   {
    "duration": 11,
    "start_time": "2024-12-02T16:52:50.262Z"
   },
   {
    "duration": 12,
    "start_time": "2024-12-02T16:52:50.274Z"
   },
   {
    "duration": 37,
    "start_time": "2024-12-02T16:52:50.288Z"
   },
   {
    "duration": 25,
    "start_time": "2024-12-02T16:52:50.326Z"
   },
   {
    "duration": 5,
    "start_time": "2024-12-02T16:52:50.353Z"
   },
   {
    "duration": 6,
    "start_time": "2024-12-02T16:52:50.360Z"
   },
   {
    "duration": 4,
    "start_time": "2024-12-02T16:52:50.368Z"
   },
   {
    "duration": 51,
    "start_time": "2024-12-02T16:52:50.374Z"
   },
   {
    "duration": 21,
    "start_time": "2024-12-02T16:52:50.427Z"
   },
   {
    "duration": 17,
    "start_time": "2024-12-02T16:52:50.525Z"
   },
   {
    "duration": 77,
    "start_time": "2024-12-02T16:52:50.547Z"
   },
   {
    "duration": 3,
    "start_time": "2024-12-02T16:52:50.626Z"
   },
   {
    "duration": 535,
    "start_time": "2024-12-02T16:52:50.634Z"
   },
   {
    "duration": 0,
    "start_time": "2024-12-02T16:52:51.171Z"
   },
   {
    "duration": 0,
    "start_time": "2024-12-02T16:52:51.175Z"
   },
   {
    "duration": 1,
    "start_time": "2024-12-02T16:52:51.176Z"
   },
   {
    "duration": 0,
    "start_time": "2024-12-02T16:52:51.178Z"
   },
   {
    "duration": 0,
    "start_time": "2024-12-02T16:52:51.181Z"
   },
   {
    "duration": 0,
    "start_time": "2024-12-02T16:52:51.182Z"
   },
   {
    "duration": 0,
    "start_time": "2024-12-02T16:52:51.183Z"
   },
   {
    "duration": 3,
    "start_time": "2024-12-02T16:54:51.316Z"
   },
   {
    "duration": 58,
    "start_time": "2024-12-02T16:54:53.160Z"
   },
   {
    "duration": 3,
    "start_time": "2024-12-02T16:55:23.277Z"
   },
   {
    "duration": 46,
    "start_time": "2024-12-02T16:55:24.494Z"
   },
   {
    "duration": 3,
    "start_time": "2024-12-02T16:55:50.711Z"
   },
   {
    "duration": 468,
    "start_time": "2024-12-02T16:55:51.742Z"
   },
   {
    "duration": 19,
    "start_time": "2024-12-02T16:57:32.088Z"
   },
   {
    "duration": 19,
    "start_time": "2024-12-02T16:57:43.964Z"
   },
   {
    "duration": 35,
    "start_time": "2024-12-02T16:58:03.831Z"
   },
   {
    "duration": 25,
    "start_time": "2024-12-02T16:58:19.805Z"
   },
   {
    "duration": 3,
    "start_time": "2024-12-02T16:58:52.164Z"
   },
   {
    "duration": 107,
    "start_time": "2024-12-02T16:58:53.822Z"
   },
   {
    "duration": 34,
    "start_time": "2024-12-02T17:04:59.390Z"
   },
   {
    "duration": 22,
    "start_time": "2024-12-02T17:05:10.901Z"
   },
   {
    "duration": 38,
    "start_time": "2024-12-02T17:05:37.263Z"
   },
   {
    "duration": 34,
    "start_time": "2024-12-02T17:05:53.043Z"
   },
   {
    "duration": 20,
    "start_time": "2024-12-02T17:06:01.224Z"
   },
   {
    "duration": 21,
    "start_time": "2024-12-02T17:08:03.698Z"
   },
   {
    "duration": 4,
    "start_time": "2024-12-02T17:08:36.669Z"
   },
   {
    "duration": 20,
    "start_time": "2024-12-02T17:08:38.308Z"
   },
   {
    "duration": 20,
    "start_time": "2024-12-02T17:08:45.680Z"
   },
   {
    "duration": 19,
    "start_time": "2024-12-02T17:09:00.630Z"
   },
   {
    "duration": 2,
    "start_time": "2024-12-02T17:09:14.763Z"
   },
   {
    "duration": 30,
    "start_time": "2024-12-02T17:09:17.425Z"
   },
   {
    "duration": 3,
    "start_time": "2024-12-02T17:09:34.016Z"
   },
   {
    "duration": 18,
    "start_time": "2024-12-02T17:09:35.447Z"
   },
   {
    "duration": 3,
    "start_time": "2024-12-02T17:10:03.710Z"
   },
   {
    "duration": 7,
    "start_time": "2024-12-02T17:10:04.941Z"
   },
   {
    "duration": 13,
    "start_time": "2024-12-02T17:10:11.084Z"
   },
   {
    "duration": 21,
    "start_time": "2024-12-02T17:10:28.288Z"
   },
   {
    "duration": 22,
    "start_time": "2024-12-02T17:10:37.708Z"
   },
   {
    "duration": 9,
    "start_time": "2024-12-02T17:10:52.248Z"
   },
   {
    "duration": 20,
    "start_time": "2024-12-02T17:10:56.958Z"
   },
   {
    "duration": 14,
    "start_time": "2024-12-02T17:11:01.466Z"
   },
   {
    "duration": 7,
    "start_time": "2024-12-02T17:11:10.211Z"
   },
   {
    "duration": 7,
    "start_time": "2024-12-02T17:11:24.197Z"
   },
   {
    "duration": 4,
    "start_time": "2024-12-02T17:20:49.660Z"
   },
   {
    "duration": 1080,
    "start_time": "2024-12-02T17:21:04.405Z"
   },
   {
    "duration": 1078,
    "start_time": "2024-12-02T17:21:28.992Z"
   },
   {
    "duration": 1061,
    "start_time": "2024-12-02T17:22:11.373Z"
   },
   {
    "duration": 1033,
    "start_time": "2024-12-02T17:22:18.951Z"
   },
   {
    "duration": 5,
    "start_time": "2024-12-02T17:23:50.706Z"
   },
   {
    "duration": 1049,
    "start_time": "2024-12-02T17:23:52.341Z"
   },
   {
    "duration": 1048,
    "start_time": "2024-12-02T17:24:10.448Z"
   },
   {
    "duration": 1061,
    "start_time": "2024-12-02T17:24:20.508Z"
   },
   {
    "duration": 3,
    "start_time": "2024-12-02T17:25:32.694Z"
   },
   {
    "duration": 17,
    "start_time": "2024-12-02T17:25:33.819Z"
   },
   {
    "duration": 7,
    "start_time": "2024-12-02T17:25:39.966Z"
   },
   {
    "duration": 7,
    "start_time": "2024-12-02T17:25:50.553Z"
   },
   {
    "duration": 8,
    "start_time": "2024-12-02T17:25:52.252Z"
   },
   {
    "duration": 7,
    "start_time": "2024-12-02T17:25:56.967Z"
   },
   {
    "duration": 1064,
    "start_time": "2024-12-02T17:34:33.988Z"
   },
   {
    "duration": 3,
    "start_time": "2024-12-02T17:35:19.042Z"
   },
   {
    "duration": 7,
    "start_time": "2024-12-02T17:35:20.272Z"
   },
   {
    "duration": 8,
    "start_time": "2024-12-02T17:35:21.503Z"
   },
   {
    "duration": 6,
    "start_time": "2024-12-02T17:35:24.163Z"
   },
   {
    "duration": 9,
    "start_time": "2024-12-02T17:35:26.825Z"
   },
   {
    "duration": 5,
    "start_time": "2024-12-02T17:35:48.329Z"
   },
   {
    "duration": 1021,
    "start_time": "2024-12-02T17:35:49.558Z"
   },
   {
    "duration": 4,
    "start_time": "2024-12-02T17:36:20.390Z"
   },
   {
    "duration": 1075,
    "start_time": "2024-12-02T17:36:21.816Z"
   },
   {
    "duration": 5,
    "start_time": "2024-12-02T17:36:37.995Z"
   },
   {
    "duration": 1057,
    "start_time": "2024-12-02T17:36:39.020Z"
   },
   {
    "duration": 4,
    "start_time": "2024-12-02T17:37:29.502Z"
   },
   {
    "duration": 1677,
    "start_time": "2024-12-02T17:37:30.551Z"
   },
   {
    "duration": 6,
    "start_time": "2024-12-02T17:37:43.021Z"
   },
   {
    "duration": 1046,
    "start_time": "2024-12-02T17:37:44.248Z"
   },
   {
    "duration": 7,
    "start_time": "2024-12-02T17:42:59.337Z"
   },
   {
    "duration": 5,
    "start_time": "2024-12-02T17:43:24.323Z"
   },
   {
    "duration": 1028,
    "start_time": "2024-12-02T17:43:25.960Z"
   },
   {
    "duration": 5,
    "start_time": "2024-12-02T17:43:53.200Z"
   },
   {
    "duration": 1032,
    "start_time": "2024-12-02T17:44:00.168Z"
   },
   {
    "duration": 5,
    "start_time": "2024-12-02T17:44:19.005Z"
   },
   {
    "duration": 1061,
    "start_time": "2024-12-02T17:44:20.029Z"
   },
   {
    "duration": 1088,
    "start_time": "2024-12-02T17:45:31.095Z"
   },
   {
    "duration": 1094,
    "start_time": "2024-12-02T17:45:56.080Z"
   },
   {
    "duration": 15,
    "start_time": "2024-12-02T17:51:26.120Z"
   },
   {
    "duration": 1048,
    "start_time": "2024-12-02T17:51:32.878Z"
   },
   {
    "duration": 1056,
    "start_time": "2024-12-02T17:51:35.540Z"
   },
   {
    "duration": 1076,
    "start_time": "2024-12-02T17:51:36.666Z"
   },
   {
    "duration": 15,
    "start_time": "2024-12-02T17:51:38.410Z"
   },
   {
    "duration": 1069,
    "start_time": "2024-12-02T17:51:59.298Z"
   },
   {
    "duration": 14,
    "start_time": "2024-12-02T17:52:07.080Z"
   },
   {
    "duration": 5,
    "start_time": "2024-12-02T17:52:21.594Z"
   },
   {
    "duration": 1077,
    "start_time": "2024-12-02T17:52:23.054Z"
   },
   {
    "duration": 15,
    "start_time": "2024-12-02T17:52:28.072Z"
   },
   {
    "duration": 1048,
    "start_time": "2024-12-02T17:52:35.036Z"
   },
   {
    "duration": 1074,
    "start_time": "2024-12-02T17:52:36.674Z"
   },
   {
    "duration": 8,
    "start_time": "2024-12-02T17:52:39.957Z"
   },
   {
    "duration": 4,
    "start_time": "2024-12-02T17:56:12.336Z"
   },
   {
    "duration": 18,
    "start_time": "2024-12-02T17:56:14.174Z"
   },
   {
    "duration": 19,
    "start_time": "2024-12-02T17:56:19.089Z"
   },
   {
    "duration": 20,
    "start_time": "2024-12-02T17:56:21.751Z"
   },
   {
    "duration": 6,
    "start_time": "2024-12-02T18:10:24.417Z"
   },
   {
    "duration": 861,
    "start_time": "2024-12-02T18:10:29.738Z"
   },
   {
    "duration": 3,
    "start_time": "2024-12-02T18:10:40.798Z"
   },
   {
    "duration": 5,
    "start_time": "2024-12-02T18:10:45.916Z"
   },
   {
    "duration": 1095,
    "start_time": "2024-12-02T18:10:47.351Z"
   },
   {
    "duration": 1058,
    "start_time": "2024-12-02T18:10:59.028Z"
   },
   {
    "duration": 7,
    "start_time": "2024-12-02T18:11:27.491Z"
   },
   {
    "duration": 1065,
    "start_time": "2024-12-02T18:11:28.617Z"
   },
   {
    "duration": 1069,
    "start_time": "2024-12-02T18:11:34.493Z"
   },
   {
    "duration": 1071,
    "start_time": "2024-12-02T18:11:40.001Z"
   },
   {
    "duration": 8,
    "start_time": "2024-12-02T18:11:45.718Z"
   },
   {
    "duration": 8,
    "start_time": "2024-12-02T18:12:00.669Z"
   },
   {
    "duration": 8,
    "start_time": "2024-12-02T19:46:41.786Z"
   },
   {
    "duration": 5,
    "start_time": "2024-12-02T19:57:49.441Z"
   },
   {
    "duration": 1059,
    "start_time": "2024-12-02T19:57:54.569Z"
   },
   {
    "duration": 1068,
    "start_time": "2024-12-02T19:58:03.061Z"
   },
   {
    "duration": 1076,
    "start_time": "2024-12-02T19:58:04.288Z"
   },
   {
    "duration": 5,
    "start_time": "2024-12-02T19:59:00.405Z"
   },
   {
    "duration": 1062,
    "start_time": "2024-12-02T19:59:01.327Z"
   },
   {
    "duration": 1283,
    "start_time": "2024-12-02T19:59:02.391Z"
   },
   {
    "duration": 1087,
    "start_time": "2024-12-02T19:59:03.677Z"
   },
   {
    "duration": 7,
    "start_time": "2024-12-02T20:11:56.301Z"
   },
   {
    "duration": 7,
    "start_time": "2024-12-02T20:12:06.643Z"
   },
   {
    "duration": 7,
    "start_time": "2024-12-02T20:12:53.952Z"
   },
   {
    "duration": 7,
    "start_time": "2024-12-02T20:12:55.180Z"
   },
   {
    "duration": 7,
    "start_time": "2024-12-02T20:14:27.137Z"
   },
   {
    "duration": 10,
    "start_time": "2024-12-02T20:15:57.455Z"
   },
   {
    "duration": 8,
    "start_time": "2024-12-02T20:16:01.747Z"
   },
   {
    "duration": 6,
    "start_time": "2024-12-02T20:16:58.487Z"
   },
   {
    "duration": 874,
    "start_time": "2024-12-03T17:42:08.712Z"
   },
   {
    "duration": 308,
    "start_time": "2024-12-03T17:42:09.589Z"
   },
   {
    "duration": 11,
    "start_time": "2024-12-03T17:42:09.899Z"
   },
   {
    "duration": 11,
    "start_time": "2024-12-03T17:42:09.912Z"
   },
   {
    "duration": 9,
    "start_time": "2024-12-03T17:42:09.925Z"
   },
   {
    "duration": 26,
    "start_time": "2024-12-03T17:42:09.936Z"
   },
   {
    "duration": 7,
    "start_time": "2024-12-03T17:42:09.963Z"
   },
   {
    "duration": 37,
    "start_time": "2024-12-03T17:42:09.971Z"
   },
   {
    "duration": 11,
    "start_time": "2024-12-03T17:42:10.010Z"
   },
   {
    "duration": 9,
    "start_time": "2024-12-03T17:42:10.022Z"
   },
   {
    "duration": 9,
    "start_time": "2024-12-03T17:42:10.032Z"
   },
   {
    "duration": 24,
    "start_time": "2024-12-03T17:42:10.042Z"
   },
   {
    "duration": 7,
    "start_time": "2024-12-03T17:42:10.068Z"
   },
   {
    "duration": 5,
    "start_time": "2024-12-03T17:42:10.108Z"
   },
   {
    "duration": 10,
    "start_time": "2024-12-03T17:42:10.115Z"
   },
   {
    "duration": 10,
    "start_time": "2024-12-03T17:42:10.126Z"
   },
   {
    "duration": 9,
    "start_time": "2024-12-03T17:42:10.137Z"
   },
   {
    "duration": 24,
    "start_time": "2024-12-03T17:42:10.148Z"
   },
   {
    "duration": 35,
    "start_time": "2024-12-03T17:42:10.174Z"
   },
   {
    "duration": 6,
    "start_time": "2024-12-03T17:42:10.210Z"
   },
   {
    "duration": 3,
    "start_time": "2024-12-03T17:42:10.218Z"
   },
   {
    "duration": 19,
    "start_time": "2024-12-03T17:42:10.224Z"
   },
   {
    "duration": 74,
    "start_time": "2024-12-03T17:42:10.244Z"
   },
   {
    "duration": 98,
    "start_time": "2024-12-03T17:42:10.320Z"
   },
   {
    "duration": 3,
    "start_time": "2024-12-03T17:42:10.419Z"
   },
   {
    "duration": 4,
    "start_time": "2024-12-03T17:42:10.423Z"
   },
   {
    "duration": 85,
    "start_time": "2024-12-03T17:42:10.428Z"
   },
   {
    "duration": 6,
    "start_time": "2024-12-03T17:42:10.516Z"
   },
   {
    "duration": 7,
    "start_time": "2024-12-03T17:42:10.523Z"
   },
   {
    "duration": 7,
    "start_time": "2024-12-03T17:42:10.531Z"
   },
   {
    "duration": 6,
    "start_time": "2024-12-03T17:42:10.539Z"
   },
   {
    "duration": 1134,
    "start_time": "2024-12-03T17:42:10.546Z"
   },
   {
    "duration": 1093,
    "start_time": "2024-12-03T17:42:11.682Z"
   },
   {
    "duration": 1389,
    "start_time": "2024-12-03T17:42:12.777Z"
   },
   {
    "duration": 9,
    "start_time": "2024-12-03T17:42:14.167Z"
   }
  ],
  "kernelspec": {
   "display_name": "Python 3 (ipykernel)",
   "language": "python",
   "name": "python3"
  },
  "language_info": {
   "codemirror_mode": {
    "name": "ipython",
    "version": 3
   },
   "file_extension": ".py",
   "mimetype": "text/x-python",
   "name": "python",
   "nbconvert_exporter": "python",
   "pygments_lexer": "ipython3",
   "version": "3.9.19"
  },
  "toc": {
   "base_numbering": 1,
   "nav_menu": {
    "height": "161px",
    "width": "160px"
   },
   "number_sections": true,
   "sideBar": true,
   "skip_h1_title": true,
   "title_cell": "Table of Contents",
   "title_sidebar": "Contents",
   "toc_cell": false,
   "toc_position": {
    "height": "calc(100% - 180px)",
    "left": "10px",
    "top": "150px",
    "width": "165px"
   },
   "toc_section_display": true,
   "toc_window_display": true
  }
 },
 "nbformat": 4,
 "nbformat_minor": 2
}
